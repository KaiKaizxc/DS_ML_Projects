{
 "cells": [
  {
   "cell_type": "markdown",
   "id": "7685a493",
   "metadata": {},
   "source": [
    "<p>Usually for weight initializations, there are 3 points to watch out for:</p>\n",
    "<ul>\n",
    "    <ol>\n",
    "        <li>Weights should not be the same.</li>\n",
    "        <li>Weights should be small.</li>\n",
    "        <li>Weights should have a good variance</li>\n",
    "    </ol>\n",
    "</ul>\n",
    "<p>This is because every Neuron should be learning different aspects of the model</p>"
   ]
  },
  {
   "cell_type": "code",
   "execution_count": 1,
   "id": "dd940085",
   "metadata": {},
   "outputs": [],
   "source": [
    "import numpy as np # linear algebra \n",
    "import matplotlib.pyplot as plt # plotting \n",
    "import pandas as pd # dataframe"
   ]
  },
  {
   "cell_type": "code",
   "execution_count": 68,
   "id": "295d493e",
   "metadata": {},
   "outputs": [],
   "source": [
    "data = pd.read_csv(\"./Desktop/datasets/Churn_Modelling.csv\")"
   ]
  },
  {
   "cell_type": "code",
   "execution_count": 69,
   "id": "6db35889",
   "metadata": {},
   "outputs": [
    {
     "data": {
      "text/html": [
       "<div>\n",
       "<style scoped>\n",
       "    .dataframe tbody tr th:only-of-type {\n",
       "        vertical-align: middle;\n",
       "    }\n",
       "\n",
       "    .dataframe tbody tr th {\n",
       "        vertical-align: top;\n",
       "    }\n",
       "\n",
       "    .dataframe thead th {\n",
       "        text-align: right;\n",
       "    }\n",
       "</style>\n",
       "<table border=\"1\" class=\"dataframe\">\n",
       "  <thead>\n",
       "    <tr style=\"text-align: right;\">\n",
       "      <th></th>\n",
       "      <th>RowNumber</th>\n",
       "      <th>CustomerId</th>\n",
       "      <th>Surname</th>\n",
       "      <th>CreditScore</th>\n",
       "      <th>Geography</th>\n",
       "      <th>Gender</th>\n",
       "      <th>Age</th>\n",
       "      <th>Tenure</th>\n",
       "      <th>Balance</th>\n",
       "      <th>NumOfProducts</th>\n",
       "      <th>HasCrCard</th>\n",
       "      <th>IsActiveMember</th>\n",
       "      <th>EstimatedSalary</th>\n",
       "      <th>Exited</th>\n",
       "    </tr>\n",
       "  </thead>\n",
       "  <tbody>\n",
       "    <tr>\n",
       "      <th>0</th>\n",
       "      <td>1</td>\n",
       "      <td>15634602</td>\n",
       "      <td>Hargrave</td>\n",
       "      <td>619</td>\n",
       "      <td>France</td>\n",
       "      <td>Female</td>\n",
       "      <td>42</td>\n",
       "      <td>2</td>\n",
       "      <td>0.00</td>\n",
       "      <td>1</td>\n",
       "      <td>1</td>\n",
       "      <td>1</td>\n",
       "      <td>101348.88</td>\n",
       "      <td>1</td>\n",
       "    </tr>\n",
       "    <tr>\n",
       "      <th>1</th>\n",
       "      <td>2</td>\n",
       "      <td>15647311</td>\n",
       "      <td>Hill</td>\n",
       "      <td>608</td>\n",
       "      <td>Spain</td>\n",
       "      <td>Female</td>\n",
       "      <td>41</td>\n",
       "      <td>1</td>\n",
       "      <td>83807.86</td>\n",
       "      <td>1</td>\n",
       "      <td>0</td>\n",
       "      <td>1</td>\n",
       "      <td>112542.58</td>\n",
       "      <td>0</td>\n",
       "    </tr>\n",
       "    <tr>\n",
       "      <th>2</th>\n",
       "      <td>3</td>\n",
       "      <td>15619304</td>\n",
       "      <td>Onio</td>\n",
       "      <td>502</td>\n",
       "      <td>France</td>\n",
       "      <td>Female</td>\n",
       "      <td>42</td>\n",
       "      <td>8</td>\n",
       "      <td>159660.80</td>\n",
       "      <td>3</td>\n",
       "      <td>1</td>\n",
       "      <td>0</td>\n",
       "      <td>113931.57</td>\n",
       "      <td>1</td>\n",
       "    </tr>\n",
       "    <tr>\n",
       "      <th>3</th>\n",
       "      <td>4</td>\n",
       "      <td>15701354</td>\n",
       "      <td>Boni</td>\n",
       "      <td>699</td>\n",
       "      <td>France</td>\n",
       "      <td>Female</td>\n",
       "      <td>39</td>\n",
       "      <td>1</td>\n",
       "      <td>0.00</td>\n",
       "      <td>2</td>\n",
       "      <td>0</td>\n",
       "      <td>0</td>\n",
       "      <td>93826.63</td>\n",
       "      <td>0</td>\n",
       "    </tr>\n",
       "    <tr>\n",
       "      <th>4</th>\n",
       "      <td>5</td>\n",
       "      <td>15737888</td>\n",
       "      <td>Mitchell</td>\n",
       "      <td>850</td>\n",
       "      <td>Spain</td>\n",
       "      <td>Female</td>\n",
       "      <td>43</td>\n",
       "      <td>2</td>\n",
       "      <td>125510.82</td>\n",
       "      <td>1</td>\n",
       "      <td>1</td>\n",
       "      <td>1</td>\n",
       "      <td>79084.10</td>\n",
       "      <td>0</td>\n",
       "    </tr>\n",
       "  </tbody>\n",
       "</table>\n",
       "</div>"
      ],
      "text/plain": [
       "   RowNumber  CustomerId   Surname  CreditScore Geography  Gender  Age  \\\n",
       "0          1    15634602  Hargrave          619    France  Female   42   \n",
       "1          2    15647311      Hill          608     Spain  Female   41   \n",
       "2          3    15619304      Onio          502    France  Female   42   \n",
       "3          4    15701354      Boni          699    France  Female   39   \n",
       "4          5    15737888  Mitchell          850     Spain  Female   43   \n",
       "\n",
       "   Tenure    Balance  NumOfProducts  HasCrCard  IsActiveMember  \\\n",
       "0       2       0.00              1          1               1   \n",
       "1       1   83807.86              1          0               1   \n",
       "2       8  159660.80              3          1               0   \n",
       "3       1       0.00              2          0               0   \n",
       "4       2  125510.82              1          1               1   \n",
       "\n",
       "   EstimatedSalary  Exited  \n",
       "0        101348.88       1  \n",
       "1        112542.58       0  \n",
       "2        113931.57       1  \n",
       "3         93826.63       0  \n",
       "4         79084.10       0  "
      ]
     },
     "execution_count": 69,
     "metadata": {},
     "output_type": "execute_result"
    }
   ],
   "source": [
    "data.head()"
   ]
  },
  {
   "cell_type": "code",
   "execution_count": 70,
   "id": "f37d9f57",
   "metadata": {},
   "outputs": [
    {
     "data": {
      "text/plain": [
       "14"
      ]
     },
     "execution_count": 70,
     "metadata": {},
     "output_type": "execute_result"
    }
   ],
   "source": [
    "len(data.columns)\n",
    "\n",
    "# Exited is the dependent feature \n",
    "# other columns is the independent features"
   ]
  },
  {
   "cell_type": "code",
   "execution_count": 71,
   "id": "a2ba71fc",
   "metadata": {},
   "outputs": [],
   "source": [
    "cat_columns = [key for key in data.columns if data[key].dtype == \"object\"]\n",
    "num_columns = cat_columns = [key for key in data.columns if data[key].dtype != \"object\"]"
   ]
  },
  {
   "cell_type": "code",
   "execution_count": 72,
   "id": "6d5a7ecb",
   "metadata": {},
   "outputs": [
    {
     "data": {
      "text/plain": [
       "['RowNumber',\n",
       " 'CustomerId',\n",
       " 'CreditScore',\n",
       " 'Age',\n",
       " 'Tenure',\n",
       " 'Balance',\n",
       " 'NumOfProducts',\n",
       " 'HasCrCard',\n",
       " 'IsActiveMember',\n",
       " 'EstimatedSalary',\n",
       " 'Exited']"
      ]
     },
     "execution_count": 72,
     "metadata": {},
     "output_type": "execute_result"
    }
   ],
   "source": [
    "cat_columns"
   ]
  },
  {
   "cell_type": "code",
   "execution_count": 73,
   "id": "aa1a29b1",
   "metadata": {},
   "outputs": [
    {
     "name": "stdout",
     "output_type": "stream",
     "text": [
      "<class 'pandas.core.frame.DataFrame'>\n",
      "RangeIndex: 10000 entries, 0 to 9999\n",
      "Data columns (total 14 columns):\n",
      " #   Column           Non-Null Count  Dtype  \n",
      "---  ------           --------------  -----  \n",
      " 0   RowNumber        10000 non-null  int64  \n",
      " 1   CustomerId       10000 non-null  int64  \n",
      " 2   Surname          10000 non-null  object \n",
      " 3   CreditScore      10000 non-null  int64  \n",
      " 4   Geography        10000 non-null  object \n",
      " 5   Gender           10000 non-null  object \n",
      " 6   Age              10000 non-null  int64  \n",
      " 7   Tenure           10000 non-null  int64  \n",
      " 8   Balance          10000 non-null  float64\n",
      " 9   NumOfProducts    10000 non-null  int64  \n",
      " 10  HasCrCard        10000 non-null  int64  \n",
      " 11  IsActiveMember   10000 non-null  int64  \n",
      " 12  EstimatedSalary  10000 non-null  float64\n",
      " 13  Exited           10000 non-null  int64  \n",
      "dtypes: float64(2), int64(9), object(3)\n",
      "memory usage: 1.1+ MB\n"
     ]
    }
   ],
   "source": [
    "data.info()"
   ]
  },
  {
   "cell_type": "code",
   "execution_count": 74,
   "id": "e607cc3f",
   "metadata": {},
   "outputs": [
    {
     "data": {
      "text/html": [
       "<div>\n",
       "<style scoped>\n",
       "    .dataframe tbody tr th:only-of-type {\n",
       "        vertical-align: middle;\n",
       "    }\n",
       "\n",
       "    .dataframe tbody tr th {\n",
       "        vertical-align: top;\n",
       "    }\n",
       "\n",
       "    .dataframe thead th {\n",
       "        text-align: right;\n",
       "    }\n",
       "</style>\n",
       "<table border=\"1\" class=\"dataframe\">\n",
       "  <thead>\n",
       "    <tr style=\"text-align: right;\">\n",
       "      <th></th>\n",
       "      <th>CreditScore</th>\n",
       "      <th>Geography</th>\n",
       "      <th>Gender</th>\n",
       "      <th>Age</th>\n",
       "      <th>Tenure</th>\n",
       "      <th>Balance</th>\n",
       "      <th>NumOfProducts</th>\n",
       "      <th>HasCrCard</th>\n",
       "      <th>IsActiveMember</th>\n",
       "      <th>EstimatedSalary</th>\n",
       "    </tr>\n",
       "  </thead>\n",
       "  <tbody>\n",
       "    <tr>\n",
       "      <th>0</th>\n",
       "      <td>619</td>\n",
       "      <td>France</td>\n",
       "      <td>Female</td>\n",
       "      <td>42</td>\n",
       "      <td>2</td>\n",
       "      <td>0.00</td>\n",
       "      <td>1</td>\n",
       "      <td>1</td>\n",
       "      <td>1</td>\n",
       "      <td>101348.88</td>\n",
       "    </tr>\n",
       "    <tr>\n",
       "      <th>1</th>\n",
       "      <td>608</td>\n",
       "      <td>Spain</td>\n",
       "      <td>Female</td>\n",
       "      <td>41</td>\n",
       "      <td>1</td>\n",
       "      <td>83807.86</td>\n",
       "      <td>1</td>\n",
       "      <td>0</td>\n",
       "      <td>1</td>\n",
       "      <td>112542.58</td>\n",
       "    </tr>\n",
       "    <tr>\n",
       "      <th>2</th>\n",
       "      <td>502</td>\n",
       "      <td>France</td>\n",
       "      <td>Female</td>\n",
       "      <td>42</td>\n",
       "      <td>8</td>\n",
       "      <td>159660.80</td>\n",
       "      <td>3</td>\n",
       "      <td>1</td>\n",
       "      <td>0</td>\n",
       "      <td>113931.57</td>\n",
       "    </tr>\n",
       "    <tr>\n",
       "      <th>3</th>\n",
       "      <td>699</td>\n",
       "      <td>France</td>\n",
       "      <td>Female</td>\n",
       "      <td>39</td>\n",
       "      <td>1</td>\n",
       "      <td>0.00</td>\n",
       "      <td>2</td>\n",
       "      <td>0</td>\n",
       "      <td>0</td>\n",
       "      <td>93826.63</td>\n",
       "    </tr>\n",
       "    <tr>\n",
       "      <th>4</th>\n",
       "      <td>850</td>\n",
       "      <td>Spain</td>\n",
       "      <td>Female</td>\n",
       "      <td>43</td>\n",
       "      <td>2</td>\n",
       "      <td>125510.82</td>\n",
       "      <td>1</td>\n",
       "      <td>1</td>\n",
       "      <td>1</td>\n",
       "      <td>79084.10</td>\n",
       "    </tr>\n",
       "    <tr>\n",
       "      <th>...</th>\n",
       "      <td>...</td>\n",
       "      <td>...</td>\n",
       "      <td>...</td>\n",
       "      <td>...</td>\n",
       "      <td>...</td>\n",
       "      <td>...</td>\n",
       "      <td>...</td>\n",
       "      <td>...</td>\n",
       "      <td>...</td>\n",
       "      <td>...</td>\n",
       "    </tr>\n",
       "    <tr>\n",
       "      <th>9995</th>\n",
       "      <td>771</td>\n",
       "      <td>France</td>\n",
       "      <td>Male</td>\n",
       "      <td>39</td>\n",
       "      <td>5</td>\n",
       "      <td>0.00</td>\n",
       "      <td>2</td>\n",
       "      <td>1</td>\n",
       "      <td>0</td>\n",
       "      <td>96270.64</td>\n",
       "    </tr>\n",
       "    <tr>\n",
       "      <th>9996</th>\n",
       "      <td>516</td>\n",
       "      <td>France</td>\n",
       "      <td>Male</td>\n",
       "      <td>35</td>\n",
       "      <td>10</td>\n",
       "      <td>57369.61</td>\n",
       "      <td>1</td>\n",
       "      <td>1</td>\n",
       "      <td>1</td>\n",
       "      <td>101699.77</td>\n",
       "    </tr>\n",
       "    <tr>\n",
       "      <th>9997</th>\n",
       "      <td>709</td>\n",
       "      <td>France</td>\n",
       "      <td>Female</td>\n",
       "      <td>36</td>\n",
       "      <td>7</td>\n",
       "      <td>0.00</td>\n",
       "      <td>1</td>\n",
       "      <td>0</td>\n",
       "      <td>1</td>\n",
       "      <td>42085.58</td>\n",
       "    </tr>\n",
       "    <tr>\n",
       "      <th>9998</th>\n",
       "      <td>772</td>\n",
       "      <td>Germany</td>\n",
       "      <td>Male</td>\n",
       "      <td>42</td>\n",
       "      <td>3</td>\n",
       "      <td>75075.31</td>\n",
       "      <td>2</td>\n",
       "      <td>1</td>\n",
       "      <td>0</td>\n",
       "      <td>92888.52</td>\n",
       "    </tr>\n",
       "    <tr>\n",
       "      <th>9999</th>\n",
       "      <td>792</td>\n",
       "      <td>France</td>\n",
       "      <td>Female</td>\n",
       "      <td>28</td>\n",
       "      <td>4</td>\n",
       "      <td>130142.79</td>\n",
       "      <td>1</td>\n",
       "      <td>1</td>\n",
       "      <td>0</td>\n",
       "      <td>38190.78</td>\n",
       "    </tr>\n",
       "  </tbody>\n",
       "</table>\n",
       "<p>10000 rows × 10 columns</p>\n",
       "</div>"
      ],
      "text/plain": [
       "      CreditScore Geography  Gender  Age  Tenure    Balance  NumOfProducts  \\\n",
       "0             619    France  Female   42       2       0.00              1   \n",
       "1             608     Spain  Female   41       1   83807.86              1   \n",
       "2             502    France  Female   42       8  159660.80              3   \n",
       "3             699    France  Female   39       1       0.00              2   \n",
       "4             850     Spain  Female   43       2  125510.82              1   \n",
       "...           ...       ...     ...  ...     ...        ...            ...   \n",
       "9995          771    France    Male   39       5       0.00              2   \n",
       "9996          516    France    Male   35      10   57369.61              1   \n",
       "9997          709    France  Female   36       7       0.00              1   \n",
       "9998          772   Germany    Male   42       3   75075.31              2   \n",
       "9999          792    France  Female   28       4  130142.79              1   \n",
       "\n",
       "      HasCrCard  IsActiveMember  EstimatedSalary  \n",
       "0             1               1        101348.88  \n",
       "1             0               1        112542.58  \n",
       "2             1               0        113931.57  \n",
       "3             0               0         93826.63  \n",
       "4             1               1         79084.10  \n",
       "...         ...             ...              ...  \n",
       "9995          1               0         96270.64  \n",
       "9996          1               1        101699.77  \n",
       "9997          0               1         42085.58  \n",
       "9998          1               0         92888.52  \n",
       "9999          1               0         38190.78  \n",
       "\n",
       "[10000 rows x 10 columns]"
      ]
     },
     "execution_count": 74,
     "metadata": {},
     "output_type": "execute_result"
    }
   ],
   "source": [
    "X = data.iloc[:, 3:13]\n",
    "X"
   ]
  },
  {
   "cell_type": "code",
   "execution_count": 75,
   "id": "cae9a6d5",
   "metadata": {},
   "outputs": [
    {
     "data": {
      "text/plain": [
       "0       1\n",
       "1       0\n",
       "2       1\n",
       "3       0\n",
       "4       0\n",
       "       ..\n",
       "9995    0\n",
       "9996    0\n",
       "9997    1\n",
       "9998    1\n",
       "9999    0\n",
       "Name: Exited, Length: 10000, dtype: int64"
      ]
     },
     "execution_count": 75,
     "metadata": {},
     "output_type": "execute_result"
    }
   ],
   "source": [
    "y = data.iloc[:, 13]\n",
    "y"
   ]
  },
  {
   "cell_type": "code",
   "execution_count": 76,
   "id": "d339b206",
   "metadata": {},
   "outputs": [
    {
     "data": {
      "text/plain": [
       "France     5014\n",
       "Germany    2509\n",
       "Spain      2477\n",
       "Name: Geography, dtype: int64"
      ]
     },
     "execution_count": 76,
     "metadata": {},
     "output_type": "execute_result"
    }
   ],
   "source": [
    "# Create dummy variables \n",
    "X[\"Geography\"].value_counts()"
   ]
  },
  {
   "cell_type": "code",
   "execution_count": 77,
   "id": "78166a9f",
   "metadata": {},
   "outputs": [],
   "source": [
    "geography = pd.get_dummies(X[\"Geography\"], drop_first = True )\n",
    "gender = pd.get_dummies(X[\"Gender\"], drop_first = True)"
   ]
  },
  {
   "cell_type": "code",
   "execution_count": 78,
   "id": "4a27b128",
   "metadata": {},
   "outputs": [
    {
     "data": {
      "text/html": [
       "<div>\n",
       "<style scoped>\n",
       "    .dataframe tbody tr th:only-of-type {\n",
       "        vertical-align: middle;\n",
       "    }\n",
       "\n",
       "    .dataframe tbody tr th {\n",
       "        vertical-align: top;\n",
       "    }\n",
       "\n",
       "    .dataframe thead th {\n",
       "        text-align: right;\n",
       "    }\n",
       "</style>\n",
       "<table border=\"1\" class=\"dataframe\">\n",
       "  <thead>\n",
       "    <tr style=\"text-align: right;\">\n",
       "      <th></th>\n",
       "      <th>Germany</th>\n",
       "      <th>Spain</th>\n",
       "    </tr>\n",
       "  </thead>\n",
       "  <tbody>\n",
       "    <tr>\n",
       "      <th>0</th>\n",
       "      <td>0</td>\n",
       "      <td>0</td>\n",
       "    </tr>\n",
       "    <tr>\n",
       "      <th>1</th>\n",
       "      <td>0</td>\n",
       "      <td>1</td>\n",
       "    </tr>\n",
       "    <tr>\n",
       "      <th>2</th>\n",
       "      <td>0</td>\n",
       "      <td>0</td>\n",
       "    </tr>\n",
       "    <tr>\n",
       "      <th>3</th>\n",
       "      <td>0</td>\n",
       "      <td>0</td>\n",
       "    </tr>\n",
       "    <tr>\n",
       "      <th>4</th>\n",
       "      <td>0</td>\n",
       "      <td>1</td>\n",
       "    </tr>\n",
       "    <tr>\n",
       "      <th>...</th>\n",
       "      <td>...</td>\n",
       "      <td>...</td>\n",
       "    </tr>\n",
       "    <tr>\n",
       "      <th>9995</th>\n",
       "      <td>0</td>\n",
       "      <td>0</td>\n",
       "    </tr>\n",
       "    <tr>\n",
       "      <th>9996</th>\n",
       "      <td>0</td>\n",
       "      <td>0</td>\n",
       "    </tr>\n",
       "    <tr>\n",
       "      <th>9997</th>\n",
       "      <td>0</td>\n",
       "      <td>0</td>\n",
       "    </tr>\n",
       "    <tr>\n",
       "      <th>9998</th>\n",
       "      <td>1</td>\n",
       "      <td>0</td>\n",
       "    </tr>\n",
       "    <tr>\n",
       "      <th>9999</th>\n",
       "      <td>0</td>\n",
       "      <td>0</td>\n",
       "    </tr>\n",
       "  </tbody>\n",
       "</table>\n",
       "<p>10000 rows × 2 columns</p>\n",
       "</div>"
      ],
      "text/plain": [
       "      Germany  Spain\n",
       "0           0      0\n",
       "1           0      1\n",
       "2           0      0\n",
       "3           0      0\n",
       "4           0      1\n",
       "...       ...    ...\n",
       "9995        0      0\n",
       "9996        0      0\n",
       "9997        0      0\n",
       "9998        1      0\n",
       "9999        0      0\n",
       "\n",
       "[10000 rows x 2 columns]"
      ]
     },
     "execution_count": 78,
     "metadata": {},
     "output_type": "execute_result"
    }
   ],
   "source": [
    "geography"
   ]
  },
  {
   "cell_type": "code",
   "execution_count": 79,
   "id": "6f5b27ab",
   "metadata": {},
   "outputs": [
    {
     "data": {
      "text/html": [
       "<div>\n",
       "<style scoped>\n",
       "    .dataframe tbody tr th:only-of-type {\n",
       "        vertical-align: middle;\n",
       "    }\n",
       "\n",
       "    .dataframe tbody tr th {\n",
       "        vertical-align: top;\n",
       "    }\n",
       "\n",
       "    .dataframe thead th {\n",
       "        text-align: right;\n",
       "    }\n",
       "</style>\n",
       "<table border=\"1\" class=\"dataframe\">\n",
       "  <thead>\n",
       "    <tr style=\"text-align: right;\">\n",
       "      <th></th>\n",
       "      <th>Male</th>\n",
       "    </tr>\n",
       "  </thead>\n",
       "  <tbody>\n",
       "    <tr>\n",
       "      <th>0</th>\n",
       "      <td>0</td>\n",
       "    </tr>\n",
       "    <tr>\n",
       "      <th>1</th>\n",
       "      <td>0</td>\n",
       "    </tr>\n",
       "    <tr>\n",
       "      <th>2</th>\n",
       "      <td>0</td>\n",
       "    </tr>\n",
       "    <tr>\n",
       "      <th>3</th>\n",
       "      <td>0</td>\n",
       "    </tr>\n",
       "    <tr>\n",
       "      <th>4</th>\n",
       "      <td>0</td>\n",
       "    </tr>\n",
       "    <tr>\n",
       "      <th>...</th>\n",
       "      <td>...</td>\n",
       "    </tr>\n",
       "    <tr>\n",
       "      <th>9995</th>\n",
       "      <td>1</td>\n",
       "    </tr>\n",
       "    <tr>\n",
       "      <th>9996</th>\n",
       "      <td>1</td>\n",
       "    </tr>\n",
       "    <tr>\n",
       "      <th>9997</th>\n",
       "      <td>0</td>\n",
       "    </tr>\n",
       "    <tr>\n",
       "      <th>9998</th>\n",
       "      <td>1</td>\n",
       "    </tr>\n",
       "    <tr>\n",
       "      <th>9999</th>\n",
       "      <td>0</td>\n",
       "    </tr>\n",
       "  </tbody>\n",
       "</table>\n",
       "<p>10000 rows × 1 columns</p>\n",
       "</div>"
      ],
      "text/plain": [
       "      Male\n",
       "0        0\n",
       "1        0\n",
       "2        0\n",
       "3        0\n",
       "4        0\n",
       "...    ...\n",
       "9995     1\n",
       "9996     1\n",
       "9997     0\n",
       "9998     1\n",
       "9999     0\n",
       "\n",
       "[10000 rows x 1 columns]"
      ]
     },
     "execution_count": 79,
     "metadata": {},
     "output_type": "execute_result"
    }
   ],
   "source": [
    "gender"
   ]
  },
  {
   "cell_type": "code",
   "execution_count": 80,
   "id": "dabaa64d",
   "metadata": {},
   "outputs": [],
   "source": [
    "X = pd.concat([X, geography, gender], axis = 1)"
   ]
  },
  {
   "cell_type": "code",
   "execution_count": 81,
   "id": "4a45f1e5",
   "metadata": {},
   "outputs": [
    {
     "data": {
      "text/html": [
       "<div>\n",
       "<style scoped>\n",
       "    .dataframe tbody tr th:only-of-type {\n",
       "        vertical-align: middle;\n",
       "    }\n",
       "\n",
       "    .dataframe tbody tr th {\n",
       "        vertical-align: top;\n",
       "    }\n",
       "\n",
       "    .dataframe thead th {\n",
       "        text-align: right;\n",
       "    }\n",
       "</style>\n",
       "<table border=\"1\" class=\"dataframe\">\n",
       "  <thead>\n",
       "    <tr style=\"text-align: right;\">\n",
       "      <th></th>\n",
       "      <th>CreditScore</th>\n",
       "      <th>Geography</th>\n",
       "      <th>Gender</th>\n",
       "      <th>Age</th>\n",
       "      <th>Tenure</th>\n",
       "      <th>Balance</th>\n",
       "      <th>NumOfProducts</th>\n",
       "      <th>HasCrCard</th>\n",
       "      <th>IsActiveMember</th>\n",
       "      <th>EstimatedSalary</th>\n",
       "      <th>Germany</th>\n",
       "      <th>Spain</th>\n",
       "      <th>Male</th>\n",
       "    </tr>\n",
       "  </thead>\n",
       "  <tbody>\n",
       "    <tr>\n",
       "      <th>0</th>\n",
       "      <td>619</td>\n",
       "      <td>France</td>\n",
       "      <td>Female</td>\n",
       "      <td>42</td>\n",
       "      <td>2</td>\n",
       "      <td>0.00</td>\n",
       "      <td>1</td>\n",
       "      <td>1</td>\n",
       "      <td>1</td>\n",
       "      <td>101348.88</td>\n",
       "      <td>0</td>\n",
       "      <td>0</td>\n",
       "      <td>0</td>\n",
       "    </tr>\n",
       "    <tr>\n",
       "      <th>1</th>\n",
       "      <td>608</td>\n",
       "      <td>Spain</td>\n",
       "      <td>Female</td>\n",
       "      <td>41</td>\n",
       "      <td>1</td>\n",
       "      <td>83807.86</td>\n",
       "      <td>1</td>\n",
       "      <td>0</td>\n",
       "      <td>1</td>\n",
       "      <td>112542.58</td>\n",
       "      <td>0</td>\n",
       "      <td>1</td>\n",
       "      <td>0</td>\n",
       "    </tr>\n",
       "    <tr>\n",
       "      <th>2</th>\n",
       "      <td>502</td>\n",
       "      <td>France</td>\n",
       "      <td>Female</td>\n",
       "      <td>42</td>\n",
       "      <td>8</td>\n",
       "      <td>159660.80</td>\n",
       "      <td>3</td>\n",
       "      <td>1</td>\n",
       "      <td>0</td>\n",
       "      <td>113931.57</td>\n",
       "      <td>0</td>\n",
       "      <td>0</td>\n",
       "      <td>0</td>\n",
       "    </tr>\n",
       "    <tr>\n",
       "      <th>3</th>\n",
       "      <td>699</td>\n",
       "      <td>France</td>\n",
       "      <td>Female</td>\n",
       "      <td>39</td>\n",
       "      <td>1</td>\n",
       "      <td>0.00</td>\n",
       "      <td>2</td>\n",
       "      <td>0</td>\n",
       "      <td>0</td>\n",
       "      <td>93826.63</td>\n",
       "      <td>0</td>\n",
       "      <td>0</td>\n",
       "      <td>0</td>\n",
       "    </tr>\n",
       "    <tr>\n",
       "      <th>4</th>\n",
       "      <td>850</td>\n",
       "      <td>Spain</td>\n",
       "      <td>Female</td>\n",
       "      <td>43</td>\n",
       "      <td>2</td>\n",
       "      <td>125510.82</td>\n",
       "      <td>1</td>\n",
       "      <td>1</td>\n",
       "      <td>1</td>\n",
       "      <td>79084.10</td>\n",
       "      <td>0</td>\n",
       "      <td>1</td>\n",
       "      <td>0</td>\n",
       "    </tr>\n",
       "  </tbody>\n",
       "</table>\n",
       "</div>"
      ],
      "text/plain": [
       "   CreditScore Geography  Gender  Age  Tenure    Balance  NumOfProducts  \\\n",
       "0          619    France  Female   42       2       0.00              1   \n",
       "1          608     Spain  Female   41       1   83807.86              1   \n",
       "2          502    France  Female   42       8  159660.80              3   \n",
       "3          699    France  Female   39       1       0.00              2   \n",
       "4          850     Spain  Female   43       2  125510.82              1   \n",
       "\n",
       "   HasCrCard  IsActiveMember  EstimatedSalary  Germany  Spain  Male  \n",
       "0          1               1        101348.88        0      0     0  \n",
       "1          0               1        112542.58        0      1     0  \n",
       "2          1               0        113931.57        0      0     0  \n",
       "3          0               0         93826.63        0      0     0  \n",
       "4          1               1         79084.10        0      1     0  "
      ]
     },
     "execution_count": 81,
     "metadata": {},
     "output_type": "execute_result"
    }
   ],
   "source": [
    "X.head()"
   ]
  },
  {
   "cell_type": "code",
   "execution_count": 82,
   "id": "404fe97b",
   "metadata": {},
   "outputs": [],
   "source": [
    "X.drop(columns = [\"Geography\", \"Gender\"], axis = 1, inplace = True)"
   ]
  },
  {
   "cell_type": "code",
   "execution_count": 83,
   "id": "96058449",
   "metadata": {},
   "outputs": [
    {
     "data": {
      "text/html": [
       "<div>\n",
       "<style scoped>\n",
       "    .dataframe tbody tr th:only-of-type {\n",
       "        vertical-align: middle;\n",
       "    }\n",
       "\n",
       "    .dataframe tbody tr th {\n",
       "        vertical-align: top;\n",
       "    }\n",
       "\n",
       "    .dataframe thead th {\n",
       "        text-align: right;\n",
       "    }\n",
       "</style>\n",
       "<table border=\"1\" class=\"dataframe\">\n",
       "  <thead>\n",
       "    <tr style=\"text-align: right;\">\n",
       "      <th></th>\n",
       "      <th>CreditScore</th>\n",
       "      <th>Age</th>\n",
       "      <th>Tenure</th>\n",
       "      <th>Balance</th>\n",
       "      <th>NumOfProducts</th>\n",
       "      <th>HasCrCard</th>\n",
       "      <th>IsActiveMember</th>\n",
       "      <th>EstimatedSalary</th>\n",
       "      <th>Germany</th>\n",
       "      <th>Spain</th>\n",
       "      <th>Male</th>\n",
       "    </tr>\n",
       "  </thead>\n",
       "  <tbody>\n",
       "    <tr>\n",
       "      <th>0</th>\n",
       "      <td>619</td>\n",
       "      <td>42</td>\n",
       "      <td>2</td>\n",
       "      <td>0.00</td>\n",
       "      <td>1</td>\n",
       "      <td>1</td>\n",
       "      <td>1</td>\n",
       "      <td>101348.88</td>\n",
       "      <td>0</td>\n",
       "      <td>0</td>\n",
       "      <td>0</td>\n",
       "    </tr>\n",
       "    <tr>\n",
       "      <th>1</th>\n",
       "      <td>608</td>\n",
       "      <td>41</td>\n",
       "      <td>1</td>\n",
       "      <td>83807.86</td>\n",
       "      <td>1</td>\n",
       "      <td>0</td>\n",
       "      <td>1</td>\n",
       "      <td>112542.58</td>\n",
       "      <td>0</td>\n",
       "      <td>1</td>\n",
       "      <td>0</td>\n",
       "    </tr>\n",
       "    <tr>\n",
       "      <th>2</th>\n",
       "      <td>502</td>\n",
       "      <td>42</td>\n",
       "      <td>8</td>\n",
       "      <td>159660.80</td>\n",
       "      <td>3</td>\n",
       "      <td>1</td>\n",
       "      <td>0</td>\n",
       "      <td>113931.57</td>\n",
       "      <td>0</td>\n",
       "      <td>0</td>\n",
       "      <td>0</td>\n",
       "    </tr>\n",
       "    <tr>\n",
       "      <th>3</th>\n",
       "      <td>699</td>\n",
       "      <td>39</td>\n",
       "      <td>1</td>\n",
       "      <td>0.00</td>\n",
       "      <td>2</td>\n",
       "      <td>0</td>\n",
       "      <td>0</td>\n",
       "      <td>93826.63</td>\n",
       "      <td>0</td>\n",
       "      <td>0</td>\n",
       "      <td>0</td>\n",
       "    </tr>\n",
       "    <tr>\n",
       "      <th>4</th>\n",
       "      <td>850</td>\n",
       "      <td>43</td>\n",
       "      <td>2</td>\n",
       "      <td>125510.82</td>\n",
       "      <td>1</td>\n",
       "      <td>1</td>\n",
       "      <td>1</td>\n",
       "      <td>79084.10</td>\n",
       "      <td>0</td>\n",
       "      <td>1</td>\n",
       "      <td>0</td>\n",
       "    </tr>\n",
       "  </tbody>\n",
       "</table>\n",
       "</div>"
      ],
      "text/plain": [
       "   CreditScore  Age  Tenure    Balance  NumOfProducts  HasCrCard  \\\n",
       "0          619   42       2       0.00              1          1   \n",
       "1          608   41       1   83807.86              1          0   \n",
       "2          502   42       8  159660.80              3          1   \n",
       "3          699   39       1       0.00              2          0   \n",
       "4          850   43       2  125510.82              1          1   \n",
       "\n",
       "   IsActiveMember  EstimatedSalary  Germany  Spain  Male  \n",
       "0               1        101348.88        0      0     0  \n",
       "1               1        112542.58        0      1     0  \n",
       "2               0        113931.57        0      0     0  \n",
       "3               0         93826.63        0      0     0  \n",
       "4               1         79084.10        0      1     0  "
      ]
     },
     "execution_count": 83,
     "metadata": {},
     "output_type": "execute_result"
    }
   ],
   "source": [
    "X.head()"
   ]
  },
  {
   "cell_type": "code",
   "execution_count": 84,
   "id": "15bd7f73",
   "metadata": {},
   "outputs": [],
   "source": [
    "from sklearn.model_selection import train_test_split \n",
    "X_train, X_test, y_train, y_test = train_test_split(X, y, test_size = 0.2, random_state = 0)"
   ]
  },
  {
   "cell_type": "code",
   "execution_count": 85,
   "id": "cc1f676d",
   "metadata": {},
   "outputs": [
    {
     "data": {
      "text/plain": [
       "(2000, 11)"
      ]
     },
     "execution_count": 85,
     "metadata": {},
     "output_type": "execute_result"
    }
   ],
   "source": [
    "X_test.shape # the rows we will use to test our model "
   ]
  },
  {
   "cell_type": "code",
   "execution_count": 86,
   "id": "d0f7d00c",
   "metadata": {},
   "outputs": [
    {
     "data": {
      "text/plain": [
       "(8000, 11)"
      ]
     },
     "execution_count": 86,
     "metadata": {},
     "output_type": "execute_result"
    }
   ],
   "source": [
    "X_train.shape # the rows we use to fit our model "
   ]
  },
  {
   "cell_type": "code",
   "execution_count": 87,
   "id": "5d25fc37",
   "metadata": {},
   "outputs": [
    {
     "data": {
      "text/plain": [
       "(8000,)"
      ]
     },
     "execution_count": 87,
     "metadata": {},
     "output_type": "execute_result"
    }
   ],
   "source": [
    "y_train.shape # the labels on our train model"
   ]
  },
  {
   "cell_type": "code",
   "execution_count": 88,
   "id": "5fff3517",
   "metadata": {},
   "outputs": [
    {
     "data": {
      "text/html": [
       "<div>\n",
       "<style scoped>\n",
       "    .dataframe tbody tr th:only-of-type {\n",
       "        vertical-align: middle;\n",
       "    }\n",
       "\n",
       "    .dataframe tbody tr th {\n",
       "        vertical-align: top;\n",
       "    }\n",
       "\n",
       "    .dataframe thead th {\n",
       "        text-align: right;\n",
       "    }\n",
       "</style>\n",
       "<table border=\"1\" class=\"dataframe\">\n",
       "  <thead>\n",
       "    <tr style=\"text-align: right;\">\n",
       "      <th></th>\n",
       "      <th>CreditScore</th>\n",
       "      <th>Age</th>\n",
       "      <th>Tenure</th>\n",
       "      <th>Balance</th>\n",
       "      <th>NumOfProducts</th>\n",
       "      <th>HasCrCard</th>\n",
       "      <th>IsActiveMember</th>\n",
       "      <th>EstimatedSalary</th>\n",
       "      <th>Germany</th>\n",
       "      <th>Spain</th>\n",
       "      <th>Male</th>\n",
       "    </tr>\n",
       "  </thead>\n",
       "  <tbody>\n",
       "    <tr>\n",
       "      <th>9394</th>\n",
       "      <td>597</td>\n",
       "      <td>35</td>\n",
       "      <td>8</td>\n",
       "      <td>131101.04</td>\n",
       "      <td>1</td>\n",
       "      <td>1</td>\n",
       "      <td>1</td>\n",
       "      <td>192852.67</td>\n",
       "      <td>1</td>\n",
       "      <td>0</td>\n",
       "      <td>0</td>\n",
       "    </tr>\n",
       "    <tr>\n",
       "      <th>898</th>\n",
       "      <td>523</td>\n",
       "      <td>40</td>\n",
       "      <td>2</td>\n",
       "      <td>102967.41</td>\n",
       "      <td>1</td>\n",
       "      <td>1</td>\n",
       "      <td>0</td>\n",
       "      <td>128702.10</td>\n",
       "      <td>0</td>\n",
       "      <td>0</td>\n",
       "      <td>0</td>\n",
       "    </tr>\n",
       "    <tr>\n",
       "      <th>2398</th>\n",
       "      <td>706</td>\n",
       "      <td>42</td>\n",
       "      <td>8</td>\n",
       "      <td>95386.82</td>\n",
       "      <td>1</td>\n",
       "      <td>1</td>\n",
       "      <td>1</td>\n",
       "      <td>75732.25</td>\n",
       "      <td>0</td>\n",
       "      <td>1</td>\n",
       "      <td>0</td>\n",
       "    </tr>\n",
       "    <tr>\n",
       "      <th>5906</th>\n",
       "      <td>788</td>\n",
       "      <td>32</td>\n",
       "      <td>4</td>\n",
       "      <td>112079.58</td>\n",
       "      <td>1</td>\n",
       "      <td>0</td>\n",
       "      <td>0</td>\n",
       "      <td>89368.59</td>\n",
       "      <td>0</td>\n",
       "      <td>0</td>\n",
       "      <td>1</td>\n",
       "    </tr>\n",
       "    <tr>\n",
       "      <th>2343</th>\n",
       "      <td>706</td>\n",
       "      <td>38</td>\n",
       "      <td>5</td>\n",
       "      <td>163034.82</td>\n",
       "      <td>2</td>\n",
       "      <td>1</td>\n",
       "      <td>1</td>\n",
       "      <td>135662.17</td>\n",
       "      <td>1</td>\n",
       "      <td>0</td>\n",
       "      <td>1</td>\n",
       "    </tr>\n",
       "    <tr>\n",
       "      <th>...</th>\n",
       "      <td>...</td>\n",
       "      <td>...</td>\n",
       "      <td>...</td>\n",
       "      <td>...</td>\n",
       "      <td>...</td>\n",
       "      <td>...</td>\n",
       "      <td>...</td>\n",
       "      <td>...</td>\n",
       "      <td>...</td>\n",
       "      <td>...</td>\n",
       "      <td>...</td>\n",
       "    </tr>\n",
       "    <tr>\n",
       "      <th>1037</th>\n",
       "      <td>625</td>\n",
       "      <td>24</td>\n",
       "      <td>1</td>\n",
       "      <td>0.00</td>\n",
       "      <td>2</td>\n",
       "      <td>1</td>\n",
       "      <td>1</td>\n",
       "      <td>180969.55</td>\n",
       "      <td>0</td>\n",
       "      <td>0</td>\n",
       "      <td>0</td>\n",
       "    </tr>\n",
       "    <tr>\n",
       "      <th>2899</th>\n",
       "      <td>586</td>\n",
       "      <td>35</td>\n",
       "      <td>7</td>\n",
       "      <td>0.00</td>\n",
       "      <td>2</td>\n",
       "      <td>1</td>\n",
       "      <td>0</td>\n",
       "      <td>70760.69</td>\n",
       "      <td>0</td>\n",
       "      <td>0</td>\n",
       "      <td>0</td>\n",
       "    </tr>\n",
       "    <tr>\n",
       "      <th>9549</th>\n",
       "      <td>578</td>\n",
       "      <td>36</td>\n",
       "      <td>1</td>\n",
       "      <td>157267.95</td>\n",
       "      <td>2</td>\n",
       "      <td>1</td>\n",
       "      <td>0</td>\n",
       "      <td>141533.19</td>\n",
       "      <td>0</td>\n",
       "      <td>1</td>\n",
       "      <td>1</td>\n",
       "    </tr>\n",
       "    <tr>\n",
       "      <th>2740</th>\n",
       "      <td>650</td>\n",
       "      <td>34</td>\n",
       "      <td>4</td>\n",
       "      <td>142393.11</td>\n",
       "      <td>1</td>\n",
       "      <td>1</td>\n",
       "      <td>1</td>\n",
       "      <td>11276.48</td>\n",
       "      <td>1</td>\n",
       "      <td>0</td>\n",
       "      <td>1</td>\n",
       "    </tr>\n",
       "    <tr>\n",
       "      <th>6690</th>\n",
       "      <td>573</td>\n",
       "      <td>30</td>\n",
       "      <td>8</td>\n",
       "      <td>127406.50</td>\n",
       "      <td>1</td>\n",
       "      <td>1</td>\n",
       "      <td>0</td>\n",
       "      <td>192950.60</td>\n",
       "      <td>1</td>\n",
       "      <td>0</td>\n",
       "      <td>1</td>\n",
       "    </tr>\n",
       "  </tbody>\n",
       "</table>\n",
       "<p>2000 rows × 11 columns</p>\n",
       "</div>"
      ],
      "text/plain": [
       "      CreditScore  Age  Tenure    Balance  NumOfProducts  HasCrCard  \\\n",
       "9394          597   35       8  131101.04              1          1   \n",
       "898           523   40       2  102967.41              1          1   \n",
       "2398          706   42       8   95386.82              1          1   \n",
       "5906          788   32       4  112079.58              1          0   \n",
       "2343          706   38       5  163034.82              2          1   \n",
       "...           ...  ...     ...        ...            ...        ...   \n",
       "1037          625   24       1       0.00              2          1   \n",
       "2899          586   35       7       0.00              2          1   \n",
       "9549          578   36       1  157267.95              2          1   \n",
       "2740          650   34       4  142393.11              1          1   \n",
       "6690          573   30       8  127406.50              1          1   \n",
       "\n",
       "      IsActiveMember  EstimatedSalary  Germany  Spain  Male  \n",
       "9394               1        192852.67        1      0     0  \n",
       "898                0        128702.10        0      0     0  \n",
       "2398               1         75732.25        0      1     0  \n",
       "5906               0         89368.59        0      0     1  \n",
       "2343               1        135662.17        1      0     1  \n",
       "...              ...              ...      ...    ...   ...  \n",
       "1037               1        180969.55        0      0     0  \n",
       "2899               0         70760.69        0      0     0  \n",
       "9549               0        141533.19        0      1     1  \n",
       "2740               1         11276.48        1      0     1  \n",
       "6690               0        192950.60        1      0     1  \n",
       "\n",
       "[2000 rows x 11 columns]"
      ]
     },
     "execution_count": 88,
     "metadata": {},
     "output_type": "execute_result"
    }
   ],
   "source": [
    "X_test"
   ]
  },
  {
   "cell_type": "code",
   "execution_count": 36,
   "id": "efd6ec23",
   "metadata": {},
   "outputs": [
    {
     "data": {
      "text/plain": [
       "(2000,)"
      ]
     },
     "execution_count": 36,
     "metadata": {},
     "output_type": "execute_result"
    }
   ],
   "source": [
    "y_test.shape # the labels on our test model "
   ]
  },
  {
   "cell_type": "code",
   "execution_count": 93,
   "id": "2ce545a5",
   "metadata": {},
   "outputs": [
    {
     "data": {
      "text/plain": [
       "7389    0\n",
       "9275    0\n",
       "2995    0\n",
       "5316    0\n",
       "356     0\n",
       "       ..\n",
       "9225    0\n",
       "4859    0\n",
       "3264    0\n",
       "9845    0\n",
       "2732    1\n",
       "Name: Exited, Length: 8000, dtype: int64"
      ]
     },
     "execution_count": 93,
     "metadata": {},
     "output_type": "execute_result"
    }
   ],
   "source": [
    "y_train"
   ]
  },
  {
   "cell_type": "code",
   "execution_count": 94,
   "id": "6102384e",
   "metadata": {},
   "outputs": [
    {
     "data": {
      "text/plain": [
       "RowNumber               2733\n",
       "CustomerId          15592816\n",
       "Surname             Udokamma\n",
       "CreditScore              623\n",
       "Geography            Germany\n",
       "Gender                Female\n",
       "Age                       48\n",
       "Tenure                     1\n",
       "Balance            108076.33\n",
       "NumOfProducts              1\n",
       "HasCrCard                  1\n",
       "IsActiveMember             0\n",
       "EstimatedSalary    118855.26\n",
       "Exited                     1\n",
       "Name: 2732, dtype: object"
      ]
     },
     "execution_count": 94,
     "metadata": {},
     "output_type": "execute_result"
    }
   ],
   "source": []
  },
  {
   "cell_type": "code",
   "execution_count": 37,
   "id": "5eda569f",
   "metadata": {},
   "outputs": [],
   "source": [
    "# Feature Scaling \n",
    "from sklearn.preprocessing import StandardScaler \n",
    "standard_scaler = StandardScaler()\n",
    "X_train = standard_scaler.fit_transform(X_train)\n",
    "X_test = standard_scaler.transform(X_test)"
   ]
  },
  {
   "cell_type": "code",
   "execution_count": 40,
   "id": "66e1b33b",
   "metadata": {},
   "outputs": [
    {
     "data": {
      "text/plain": [
       "array([ 0.16958176, -0.46460796,  0.00666099, -1.21571749,  0.8095029 ,\n",
       "        0.64259497, -1.03227043,  1.10643166, -0.5698444 ,  1.74309049,\n",
       "       -1.09168714])"
      ]
     },
     "execution_count": 40,
     "metadata": {},
     "output_type": "execute_result"
    }
   ],
   "source": [
    "X_train[0]"
   ]
  },
  {
   "cell_type": "code",
   "execution_count": 42,
   "id": "a186248a",
   "metadata": {},
   "outputs": [],
   "source": [
    "import keras \n",
    "from keras.models import Sequential\n",
    "from keras.layers import Dense \n",
    "from keras.layers import LeakyReLU, PReLU, ELU\n",
    "from keras.layers import Dropout"
   ]
  },
  {
   "cell_type": "code",
   "execution_count": 43,
   "id": "04a51088",
   "metadata": {},
   "outputs": [],
   "source": [
    "classifier = Sequential()"
   ]
  },
  {
   "cell_type": "code",
   "execution_count": 45,
   "id": "8114258f",
   "metadata": {},
   "outputs": [],
   "source": [
    "# Adding the input and the first hidden layer\n",
    "classifier.add(Dense(units = 6, kernel_initializer = \"he_uniform\", activation = \"relu\", input_dim = 11))"
   ]
  },
  {
   "cell_type": "code",
   "execution_count": 46,
   "id": "fde438e4",
   "metadata": {},
   "outputs": [],
   "source": [
    "classifier.add(Dense(units = 6, kernel_initializer = \"he_uniform\", activation = \"relu\"))"
   ]
  },
  {
   "cell_type": "code",
   "execution_count": 48,
   "id": "0c2d46d8",
   "metadata": {},
   "outputs": [],
   "source": [
    "classifier.add(Dense(units = 1, kernel_initializer = \"glorot_uniform\", activation = \"sigmoid\"))"
   ]
  },
  {
   "cell_type": "code",
   "execution_count": 50,
   "id": "c6b66e51",
   "metadata": {},
   "outputs": [
    {
     "name": "stdout",
     "output_type": "stream",
     "text": [
      "Model: \"sequential\"\n",
      "_________________________________________________________________\n",
      " Layer (type)                Output Shape              Param #   \n",
      "=================================================================\n",
      " dense (Dense)               (None, 6)                 72        \n",
      "                                                                 \n",
      " dense_1 (Dense)             (None, 6)                 42        \n",
      "                                                                 \n",
      " dense_2 (Dense)             (None, 1)                 7         \n",
      "                                                                 \n",
      "=================================================================\n",
      "Total params: 121\n",
      "Trainable params: 121\n",
      "Non-trainable params: 0\n",
      "_________________________________________________________________\n"
     ]
    }
   ],
   "source": [
    "classifier.summary()"
   ]
  },
  {
   "cell_type": "code",
   "execution_count": 51,
   "id": "02671499",
   "metadata": {},
   "outputs": [],
   "source": [
    "classifier.compile(optimizer = \"adam\", loss = \"binary_crossentropy\", metrics = [\"accuracy\"])"
   ]
  },
  {
   "cell_type": "code",
   "execution_count": 55,
   "id": "7cf3920d",
   "metadata": {},
   "outputs": [
    {
     "name": "stdout",
     "output_type": "stream",
     "text": [
      "Epoch 1/100\n"
     ]
    },
    {
     "name": "stderr",
     "output_type": "stream",
     "text": [
      "C:\\Users\\admin\\AppData\\Local\\Programs\\Python\\Python310\\lib\\site-packages\\keras\\engine\\data_adapter.py:1699: FutureWarning: The behavior of `series[i:j]` with an integer-dtype index is deprecated. In a future version, this will be treated as *label-based* indexing, consistent with e.g. `series[i]` lookups. To retain the old behavior, use `series.iloc[i:j]`. To get the future behavior, use `series.loc[i:j]`.\n",
      "  return t[start:end]\n"
     ]
    },
    {
     "name": "stdout",
     "output_type": "stream",
     "text": [
      "536/536 [==============================] - 1s 879us/step - loss: 0.5872 - accuracy: 0.7509 - val_loss: 0.5125 - val_accuracy: 0.7891\n",
      "Epoch 2/100\n",
      "536/536 [==============================] - 0s 685us/step - loss: 0.4877 - accuracy: 0.7960 - val_loss: 0.4731 - val_accuracy: 0.8012\n",
      "Epoch 3/100\n",
      "536/536 [==============================] - 0s 778us/step - loss: 0.4540 - accuracy: 0.8018 - val_loss: 0.4530 - val_accuracy: 0.8054\n",
      "Epoch 4/100\n",
      "536/536 [==============================] - 0s 695us/step - loss: 0.4327 - accuracy: 0.8156 - val_loss: 0.4391 - val_accuracy: 0.8092\n",
      "Epoch 5/100\n",
      "536/536 [==============================] - 0s 724us/step - loss: 0.4162 - accuracy: 0.8240 - val_loss: 0.4248 - val_accuracy: 0.8137\n",
      "Epoch 6/100\n",
      "536/536 [==============================] - 0s 776us/step - loss: 0.3998 - accuracy: 0.8322 - val_loss: 0.4107 - val_accuracy: 0.8262\n",
      "Epoch 7/100\n",
      "536/536 [==============================] - 0s 654us/step - loss: 0.3851 - accuracy: 0.8410 - val_loss: 0.3981 - val_accuracy: 0.8326\n",
      "Epoch 8/100\n",
      "536/536 [==============================] - 0s 672us/step - loss: 0.3737 - accuracy: 0.8434 - val_loss: 0.3901 - val_accuracy: 0.8353\n",
      "Epoch 9/100\n",
      "536/536 [==============================] - 0s 691us/step - loss: 0.3659 - accuracy: 0.8489 - val_loss: 0.3833 - val_accuracy: 0.8372\n",
      "Epoch 10/100\n",
      "536/536 [==============================] - 0s 651us/step - loss: 0.3598 - accuracy: 0.8537 - val_loss: 0.3794 - val_accuracy: 0.8410\n",
      "Epoch 11/100\n",
      "536/536 [==============================] - 0s 687us/step - loss: 0.3563 - accuracy: 0.8524 - val_loss: 0.3762 - val_accuracy: 0.8432\n",
      "Epoch 12/100\n",
      "536/536 [==============================] - 0s 674us/step - loss: 0.3528 - accuracy: 0.8533 - val_loss: 0.3732 - val_accuracy: 0.8478\n",
      "Epoch 13/100\n",
      "536/536 [==============================] - 0s 655us/step - loss: 0.3502 - accuracy: 0.8567 - val_loss: 0.3711 - val_accuracy: 0.8512\n",
      "Epoch 14/100\n",
      "536/536 [==============================] - 0s 664us/step - loss: 0.3486 - accuracy: 0.8565 - val_loss: 0.3705 - val_accuracy: 0.8497\n",
      "Epoch 15/100\n",
      "536/536 [==============================] - 0s 675us/step - loss: 0.3472 - accuracy: 0.8578 - val_loss: 0.3701 - val_accuracy: 0.8523\n",
      "Epoch 16/100\n",
      "536/536 [==============================] - 0s 719us/step - loss: 0.3458 - accuracy: 0.8565 - val_loss: 0.3685 - val_accuracy: 0.8508\n",
      "Epoch 17/100\n",
      "536/536 [==============================] - 0s 691us/step - loss: 0.3447 - accuracy: 0.8593 - val_loss: 0.3672 - val_accuracy: 0.8554\n",
      "Epoch 18/100\n",
      "536/536 [==============================] - 0s 739us/step - loss: 0.3432 - accuracy: 0.8604 - val_loss: 0.3663 - val_accuracy: 0.8538\n",
      "Epoch 19/100\n",
      "536/536 [==============================] - 0s 724us/step - loss: 0.3421 - accuracy: 0.8572 - val_loss: 0.3669 - val_accuracy: 0.8535\n",
      "Epoch 20/100\n",
      "536/536 [==============================] - 0s 704us/step - loss: 0.3410 - accuracy: 0.8580 - val_loss: 0.3649 - val_accuracy: 0.8527\n",
      "Epoch 21/100\n",
      "536/536 [==============================] - 0s 665us/step - loss: 0.3402 - accuracy: 0.8602 - val_loss: 0.3651 - val_accuracy: 0.8501\n",
      "Epoch 22/100\n",
      "536/536 [==============================] - 0s 689us/step - loss: 0.3392 - accuracy: 0.8625 - val_loss: 0.3639 - val_accuracy: 0.8516\n",
      "Epoch 23/100\n",
      "536/536 [==============================] - 0s 689us/step - loss: 0.3389 - accuracy: 0.8606 - val_loss: 0.3635 - val_accuracy: 0.8516\n",
      "Epoch 24/100\n",
      "536/536 [==============================] - 0s 652us/step - loss: 0.3375 - accuracy: 0.8612 - val_loss: 0.3642 - val_accuracy: 0.8531\n",
      "Epoch 25/100\n",
      "536/536 [==============================] - 0s 720us/step - loss: 0.3376 - accuracy: 0.8627 - val_loss: 0.3625 - val_accuracy: 0.8523\n",
      "Epoch 26/100\n",
      "536/536 [==============================] - 0s 686us/step - loss: 0.3369 - accuracy: 0.8617 - val_loss: 0.3634 - val_accuracy: 0.8516\n",
      "Epoch 27/100\n",
      "536/536 [==============================] - 0s 681us/step - loss: 0.3366 - accuracy: 0.8599 - val_loss: 0.3623 - val_accuracy: 0.8538\n",
      "Epoch 28/100\n",
      "536/536 [==============================] - 0s 661us/step - loss: 0.3354 - accuracy: 0.8617 - val_loss: 0.3622 - val_accuracy: 0.8516\n",
      "Epoch 29/100\n",
      "536/536 [==============================] - 0s 683us/step - loss: 0.3352 - accuracy: 0.8606 - val_loss: 0.3607 - val_accuracy: 0.8519\n",
      "Epoch 30/100\n",
      "536/536 [==============================] - 0s 659us/step - loss: 0.3345 - accuracy: 0.8640 - val_loss: 0.3608 - val_accuracy: 0.8519\n",
      "Epoch 31/100\n",
      "536/536 [==============================] - 0s 653us/step - loss: 0.3339 - accuracy: 0.8647 - val_loss: 0.3593 - val_accuracy: 0.8542\n",
      "Epoch 32/100\n",
      "536/536 [==============================] - 0s 659us/step - loss: 0.3335 - accuracy: 0.8636 - val_loss: 0.3597 - val_accuracy: 0.8501\n",
      "Epoch 33/100\n",
      "536/536 [==============================] - 0s 704us/step - loss: 0.3335 - accuracy: 0.8621 - val_loss: 0.3604 - val_accuracy: 0.8516\n",
      "Epoch 34/100\n",
      "536/536 [==============================] - 0s 662us/step - loss: 0.3327 - accuracy: 0.8606 - val_loss: 0.3610 - val_accuracy: 0.8512\n",
      "Epoch 35/100\n",
      "536/536 [==============================] - 0s 672us/step - loss: 0.3323 - accuracy: 0.8619 - val_loss: 0.3582 - val_accuracy: 0.8542\n",
      "Epoch 36/100\n",
      "536/536 [==============================] - 0s 677us/step - loss: 0.3319 - accuracy: 0.8636 - val_loss: 0.3606 - val_accuracy: 0.8512\n",
      "Epoch 37/100\n",
      "536/536 [==============================] - 0s 645us/step - loss: 0.3318 - accuracy: 0.8628 - val_loss: 0.3588 - val_accuracy: 0.8535\n",
      "Epoch 38/100\n",
      "536/536 [==============================] - 0s 669us/step - loss: 0.3307 - accuracy: 0.8608 - val_loss: 0.3597 - val_accuracy: 0.8535\n",
      "Epoch 39/100\n",
      "536/536 [==============================] - 0s 651us/step - loss: 0.3315 - accuracy: 0.8625 - val_loss: 0.3571 - val_accuracy: 0.8550\n",
      "Epoch 40/100\n",
      "536/536 [==============================] - 0s 653us/step - loss: 0.3309 - accuracy: 0.8647 - val_loss: 0.3580 - val_accuracy: 0.8523\n",
      "Epoch 41/100\n",
      "536/536 [==============================] - 0s 675us/step - loss: 0.3302 - accuracy: 0.8628 - val_loss: 0.3609 - val_accuracy: 0.8557\n",
      "Epoch 42/100\n",
      "536/536 [==============================] - 0s 726us/step - loss: 0.3307 - accuracy: 0.8656 - val_loss: 0.3574 - val_accuracy: 0.8542\n",
      "Epoch 43/100\n",
      "536/536 [==============================] - 0s 729us/step - loss: 0.3300 - accuracy: 0.8656 - val_loss: 0.3607 - val_accuracy: 0.8546\n",
      "Epoch 44/100\n",
      "536/536 [==============================] - 0s 663us/step - loss: 0.3303 - accuracy: 0.8636 - val_loss: 0.3562 - val_accuracy: 0.8550\n",
      "Epoch 45/100\n",
      "536/536 [==============================] - 0s 650us/step - loss: 0.3297 - accuracy: 0.8636 - val_loss: 0.3573 - val_accuracy: 0.8542\n",
      "Epoch 46/100\n",
      "536/536 [==============================] - 0s 725us/step - loss: 0.3295 - accuracy: 0.8653 - val_loss: 0.3559 - val_accuracy: 0.8531\n",
      "Epoch 47/100\n",
      "536/536 [==============================] - 0s 672us/step - loss: 0.3299 - accuracy: 0.8634 - val_loss: 0.3559 - val_accuracy: 0.8538\n",
      "Epoch 48/100\n",
      "536/536 [==============================] - 0s 695us/step - loss: 0.3293 - accuracy: 0.8632 - val_loss: 0.3553 - val_accuracy: 0.8554\n",
      "Epoch 49/100\n",
      "536/536 [==============================] - 0s 650us/step - loss: 0.3294 - accuracy: 0.8643 - val_loss: 0.3550 - val_accuracy: 0.8554\n",
      "Epoch 50/100\n",
      "536/536 [==============================] - 0s 661us/step - loss: 0.3292 - accuracy: 0.8647 - val_loss: 0.3543 - val_accuracy: 0.8550\n",
      "Epoch 51/100\n",
      "536/536 [==============================] - 0s 691us/step - loss: 0.3284 - accuracy: 0.8649 - val_loss: 0.3578 - val_accuracy: 0.8546\n",
      "Epoch 52/100\n",
      "536/536 [==============================] - 0s 709us/step - loss: 0.3290 - accuracy: 0.8634 - val_loss: 0.3547 - val_accuracy: 0.8561\n",
      "Epoch 53/100\n",
      "536/536 [==============================] - 0s 702us/step - loss: 0.3287 - accuracy: 0.8640 - val_loss: 0.3540 - val_accuracy: 0.8550\n",
      "Epoch 54/100\n",
      "536/536 [==============================] - 0s 647us/step - loss: 0.3283 - accuracy: 0.8651 - val_loss: 0.3555 - val_accuracy: 0.8542\n",
      "Epoch 55/100\n",
      "536/536 [==============================] - 0s 700us/step - loss: 0.3285 - accuracy: 0.8651 - val_loss: 0.3548 - val_accuracy: 0.8569\n",
      "Epoch 56/100\n",
      "536/536 [==============================] - 0s 676us/step - loss: 0.3278 - accuracy: 0.8630 - val_loss: 0.3564 - val_accuracy: 0.8599\n",
      "Epoch 57/100\n"
     ]
    },
    {
     "name": "stdout",
     "output_type": "stream",
     "text": [
      "536/536 [==============================] - 0s 661us/step - loss: 0.3283 - accuracy: 0.8640 - val_loss: 0.3546 - val_accuracy: 0.8546\n",
      "Epoch 58/100\n",
      "536/536 [==============================] - 0s 659us/step - loss: 0.3278 - accuracy: 0.8651 - val_loss: 0.3549 - val_accuracy: 0.8573\n",
      "Epoch 59/100\n",
      "536/536 [==============================] - 0s 650us/step - loss: 0.3279 - accuracy: 0.8617 - val_loss: 0.3562 - val_accuracy: 0.8565\n",
      "Epoch 60/100\n",
      "536/536 [==============================] - 0s 654us/step - loss: 0.3283 - accuracy: 0.8653 - val_loss: 0.3538 - val_accuracy: 0.8576\n",
      "Epoch 61/100\n",
      "536/536 [==============================] - 0s 692us/step - loss: 0.3280 - accuracy: 0.8653 - val_loss: 0.3530 - val_accuracy: 0.8561\n",
      "Epoch 62/100\n",
      "536/536 [==============================] - 0s 654us/step - loss: 0.3284 - accuracy: 0.8653 - val_loss: 0.3534 - val_accuracy: 0.8557\n",
      "Epoch 63/100\n",
      "536/536 [==============================] - 0s 663us/step - loss: 0.3276 - accuracy: 0.8658 - val_loss: 0.3562 - val_accuracy: 0.8546\n",
      "Epoch 64/100\n",
      "536/536 [==============================] - 0s 682us/step - loss: 0.3279 - accuracy: 0.8614 - val_loss: 0.3559 - val_accuracy: 0.8535\n",
      "Epoch 65/100\n",
      "536/536 [==============================] - 0s 657us/step - loss: 0.3277 - accuracy: 0.8658 - val_loss: 0.3542 - val_accuracy: 0.8546\n",
      "Epoch 66/100\n",
      "536/536 [==============================] - 0s 651us/step - loss: 0.3270 - accuracy: 0.8625 - val_loss: 0.3527 - val_accuracy: 0.8576\n",
      "Epoch 67/100\n",
      "536/536 [==============================] - 0s 661us/step - loss: 0.3275 - accuracy: 0.8640 - val_loss: 0.3545 - val_accuracy: 0.8565\n",
      "Epoch 68/100\n",
      "536/536 [==============================] - 0s 656us/step - loss: 0.3272 - accuracy: 0.8642 - val_loss: 0.3549 - val_accuracy: 0.8535\n",
      "Epoch 69/100\n",
      "536/536 [==============================] - 0s 647us/step - loss: 0.3277 - accuracy: 0.8645 - val_loss: 0.3546 - val_accuracy: 0.8557\n",
      "Epoch 70/100\n",
      "536/536 [==============================] - 0s 673us/step - loss: 0.3277 - accuracy: 0.8630 - val_loss: 0.3551 - val_accuracy: 0.8554\n",
      "Epoch 71/100\n",
      "536/536 [==============================] - 0s 652us/step - loss: 0.3270 - accuracy: 0.8623 - val_loss: 0.3559 - val_accuracy: 0.8565\n",
      "Epoch 72/100\n",
      "536/536 [==============================] - 0s 648us/step - loss: 0.3272 - accuracy: 0.8634 - val_loss: 0.3555 - val_accuracy: 0.8569\n",
      "Epoch 73/100\n",
      "536/536 [==============================] - 0s 689us/step - loss: 0.3273 - accuracy: 0.8645 - val_loss: 0.3532 - val_accuracy: 0.8573\n",
      "Epoch 74/100\n",
      "536/536 [==============================] - 0s 657us/step - loss: 0.3274 - accuracy: 0.8643 - val_loss: 0.3557 - val_accuracy: 0.8538\n",
      "Epoch 75/100\n",
      "536/536 [==============================] - 0s 658us/step - loss: 0.3278 - accuracy: 0.8645 - val_loss: 0.3532 - val_accuracy: 0.8576\n",
      "Epoch 76/100\n",
      "536/536 [==============================] - 0s 641us/step - loss: 0.3276 - accuracy: 0.8632 - val_loss: 0.3551 - val_accuracy: 0.8550\n",
      "Epoch 77/100\n",
      "536/536 [==============================] - 0s 649us/step - loss: 0.3273 - accuracy: 0.8623 - val_loss: 0.3540 - val_accuracy: 0.8573\n",
      "Epoch 78/100\n",
      "536/536 [==============================] - 0s 654us/step - loss: 0.3270 - accuracy: 0.8658 - val_loss: 0.3558 - val_accuracy: 0.8588\n",
      "Epoch 79/100\n",
      "536/536 [==============================] - 0s 667us/step - loss: 0.3266 - accuracy: 0.8658 - val_loss: 0.3539 - val_accuracy: 0.8561\n",
      "Epoch 80/100\n",
      "536/536 [==============================] - 0s 663us/step - loss: 0.3266 - accuracy: 0.8638 - val_loss: 0.3539 - val_accuracy: 0.8573\n",
      "Epoch 81/100\n",
      "536/536 [==============================] - 0s 718us/step - loss: 0.3271 - accuracy: 0.8645 - val_loss: 0.3538 - val_accuracy: 0.8584\n",
      "Epoch 82/100\n",
      "536/536 [==============================] - 0s 704us/step - loss: 0.3267 - accuracy: 0.8621 - val_loss: 0.3548 - val_accuracy: 0.8584\n",
      "Epoch 83/100\n",
      "536/536 [==============================] - 0s 699us/step - loss: 0.3265 - accuracy: 0.8638 - val_loss: 0.3529 - val_accuracy: 0.8607\n",
      "Epoch 84/100\n",
      "536/536 [==============================] - 0s 704us/step - loss: 0.3272 - accuracy: 0.8642 - val_loss: 0.3537 - val_accuracy: 0.8569\n",
      "Epoch 85/100\n",
      "536/536 [==============================] - 0s 841us/step - loss: 0.3270 - accuracy: 0.8645 - val_loss: 0.3540 - val_accuracy: 0.8569\n",
      "Epoch 86/100\n",
      "536/536 [==============================] - 0s 689us/step - loss: 0.3270 - accuracy: 0.8645 - val_loss: 0.3534 - val_accuracy: 0.8554\n",
      "Epoch 87/100\n",
      "536/536 [==============================] - 0s 678us/step - loss: 0.3269 - accuracy: 0.8599 - val_loss: 0.3534 - val_accuracy: 0.8550\n",
      "Epoch 88/100\n",
      "536/536 [==============================] - 0s 658us/step - loss: 0.3265 - accuracy: 0.8621 - val_loss: 0.3556 - val_accuracy: 0.8531\n",
      "Epoch 89/100\n",
      "536/536 [==============================] - 0s 692us/step - loss: 0.3266 - accuracy: 0.8647 - val_loss: 0.3557 - val_accuracy: 0.8546\n",
      "Epoch 90/100\n",
      "536/536 [==============================] - 0s 727us/step - loss: 0.3269 - accuracy: 0.8608 - val_loss: 0.3548 - val_accuracy: 0.8538\n",
      "Epoch 91/100\n",
      "536/536 [==============================] - 0s 671us/step - loss: 0.3261 - accuracy: 0.8634 - val_loss: 0.3525 - val_accuracy: 0.8557\n",
      "Epoch 92/100\n",
      "536/536 [==============================] - 0s 661us/step - loss: 0.3266 - accuracy: 0.8632 - val_loss: 0.3529 - val_accuracy: 0.8561\n",
      "Epoch 93/100\n",
      "536/536 [==============================] - 0s 668us/step - loss: 0.3264 - accuracy: 0.8619 - val_loss: 0.3560 - val_accuracy: 0.8550\n",
      "Epoch 94/100\n",
      "536/536 [==============================] - 0s 676us/step - loss: 0.3260 - accuracy: 0.8636 - val_loss: 0.3540 - val_accuracy: 0.8573\n",
      "Epoch 95/100\n",
      "536/536 [==============================] - 0s 740us/step - loss: 0.3260 - accuracy: 0.8623 - val_loss: 0.3539 - val_accuracy: 0.8546\n",
      "Epoch 96/100\n",
      "536/536 [==============================] - 0s 688us/step - loss: 0.3263 - accuracy: 0.8623 - val_loss: 0.3566 - val_accuracy: 0.8576\n",
      "Epoch 97/100\n",
      "536/536 [==============================] - 0s 669us/step - loss: 0.3262 - accuracy: 0.8627 - val_loss: 0.3539 - val_accuracy: 0.8546\n",
      "Epoch 98/100\n",
      "536/536 [==============================] - 0s 676us/step - loss: 0.3264 - accuracy: 0.8632 - val_loss: 0.3543 - val_accuracy: 0.8569\n",
      "Epoch 99/100\n",
      "536/536 [==============================] - 0s 822us/step - loss: 0.3262 - accuracy: 0.8627 - val_loss: 0.3553 - val_accuracy: 0.8580\n",
      "Epoch 100/100\n",
      "536/536 [==============================] - 0s 694us/step - loss: 0.3260 - accuracy: 0.8643 - val_loss: 0.3545 - val_accuracy: 0.8573\n"
     ]
    }
   ],
   "source": [
    "model_history = classifier.fit(X_train, y_train, validation_split = 0.33, batch_size = 10, epochs = 100)"
   ]
  },
  {
   "cell_type": "code",
   "execution_count": 57,
   "id": "ce2f0744",
   "metadata": {},
   "outputs": [
    {
     "name": "stdout",
     "output_type": "stream",
     "text": [
      "63/63 [==============================] - 0s 354us/step\n"
     ]
    }
   ],
   "source": [
    "y_pred = classifier.predict(X_test)"
   ]
  },
  {
   "cell_type": "code",
   "execution_count": 58,
   "id": "7d22b4ac",
   "metadata": {},
   "outputs": [
    {
     "data": {
      "text/plain": [
       "array([[0.36077937],\n",
       "       [0.3482305 ],\n",
       "       [0.20470008],\n",
       "       ...,\n",
       "       [0.12207298],\n",
       "       [0.15427488],\n",
       "       [0.23389912]], dtype=float32)"
      ]
     },
     "execution_count": 58,
     "metadata": {},
     "output_type": "execute_result"
    }
   ],
   "source": [
    "y_pred"
   ]
  },
  {
   "cell_type": "code",
   "execution_count": 60,
   "id": "29f87662",
   "metadata": {},
   "outputs": [],
   "source": [
    "y_pred = (y_pred > 0.5)"
   ]
  },
  {
   "cell_type": "code",
   "execution_count": 61,
   "id": "b004aeac",
   "metadata": {},
   "outputs": [
    {
     "data": {
      "text/plain": [
       "array([[False],\n",
       "       [False],\n",
       "       [False],\n",
       "       ...,\n",
       "       [False],\n",
       "       [False],\n",
       "       [False]])"
      ]
     },
     "execution_count": 61,
     "metadata": {},
     "output_type": "execute_result"
    }
   ],
   "source": [
    "y_pred"
   ]
  },
  {
   "cell_type": "code",
   "execution_count": 63,
   "id": "36806d45",
   "metadata": {},
   "outputs": [],
   "source": [
    "from sklearn.metrics import confusion_matrix\n",
    "\n",
    "cm = confusion_matrix(y_test, y_pred)"
   ]
  },
  {
   "cell_type": "code",
   "execution_count": 64,
   "id": "c367689f",
   "metadata": {},
   "outputs": [],
   "source": [
    "from sklearn.metrics import accuracy_score\n",
    "\n",
    "score = accuracy_score(y_pred, y_test)"
   ]
  },
  {
   "cell_type": "code",
   "execution_count": 65,
   "id": "e870f576",
   "metadata": {},
   "outputs": [
    {
     "data": {
      "text/plain": [
       "array([[1502,   93],\n",
       "       [ 188,  217]], dtype=int64)"
      ]
     },
     "execution_count": 65,
     "metadata": {},
     "output_type": "execute_result"
    }
   ],
   "source": [
    "cm"
   ]
  },
  {
   "cell_type": "code",
   "execution_count": 66,
   "id": "7cd7ea9c",
   "metadata": {},
   "outputs": [
    {
     "data": {
      "text/plain": [
       "0.8595"
      ]
     },
     "execution_count": 66,
     "metadata": {},
     "output_type": "execute_result"
    }
   ],
   "source": [
    "score"
   ]
  },
  {
   "cell_type": "code",
   "execution_count": 67,
   "id": "5368c2dc",
   "metadata": {},
   "outputs": [
    {
     "data": {
      "text/plain": [
       "9394    0\n",
       "898     1\n",
       "2398    0\n",
       "5906    0\n",
       "2343    0\n",
       "       ..\n",
       "1037    0\n",
       "2899    0\n",
       "9549    0\n",
       "2740    0\n",
       "6690    0\n",
       "Name: Exited, Length: 2000, dtype: int64"
      ]
     },
     "execution_count": 67,
     "metadata": {},
     "output_type": "execute_result"
    }
   ],
   "source": [
    "y_test"
   ]
  },
  {
   "cell_type": "code",
   "execution_count": null,
   "id": "1256bb1a",
   "metadata": {},
   "outputs": [],
   "source": []
  }
 ],
 "metadata": {
  "kernelspec": {
   "display_name": "Python 3 (ipykernel)",
   "language": "python",
   "name": "python3"
  },
  "language_info": {
   "codemirror_mode": {
    "name": "ipython",
    "version": 3
   },
   "file_extension": ".py",
   "mimetype": "text/x-python",
   "name": "python",
   "nbconvert_exporter": "python",
   "pygments_lexer": "ipython3",
   "version": "3.10.7"
  }
 },
 "nbformat": 4,
 "nbformat_minor": 5
}
