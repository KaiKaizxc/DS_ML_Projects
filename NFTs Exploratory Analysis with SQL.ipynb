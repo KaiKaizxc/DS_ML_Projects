{
 "cells": [
  {
   "cell_type": "code",
   "execution_count": 59,
   "id": "7434b6e2",
   "metadata": {},
   "outputs": [],
   "source": [
    "import pandas as pd \n",
    "import numpy as np\n",
    "import sqlite3 \n",
    "import matplotlib.pyplot as plt \n",
    "import matplotlib\n",
    "import seaborn as sns"
   ]
  },
  {
   "cell_type": "code",
   "execution_count": 2,
   "id": "472d77b0",
   "metadata": {},
   "outputs": [],
   "source": [
    "#============== QUESTIONS TO BE ANSWERED ===================\n",
    "\n",
    "# who owns the majority of these NFTs?\n",
    "# whats the distribution of NFTs by Prices? \n",
    "# whats the trend? minting ? \n",
    "# price of NFTs over time ? \n",
    "# factors that contributes to an NFT price "
   ]
  },
  {
   "cell_type": "code",
   "execution_count": 30,
   "id": "3ef4df59",
   "metadata": {},
   "outputs": [],
   "source": [
    "connection = sqlite3.connect(\"Desktop/datasets/nfts.sqlite\")"
   ]
  },
  {
   "cell_type": "code",
   "execution_count": 31,
   "id": "6a3b1554",
   "metadata": {},
   "outputs": [],
   "source": [
    "cursor = connection.cursor()"
   ]
  },
  {
   "cell_type": "code",
   "execution_count": 32,
   "id": "e97864c1",
   "metadata": {},
   "outputs": [],
   "source": [
    "current_market_values = pd.read_sql_query(\n",
    "    \"SELECT * FROM current_market_values\", connection\n",
    ")"
   ]
  },
  {
   "cell_type": "code",
   "execution_count": 33,
   "id": "093d8bb0",
   "metadata": {},
   "outputs": [
    {
     "data": {
      "text/html": [
       "<div>\n",
       "<style scoped>\n",
       "    .dataframe tbody tr th:only-of-type {\n",
       "        vertical-align: middle;\n",
       "    }\n",
       "\n",
       "    .dataframe tbody tr th {\n",
       "        vertical-align: top;\n",
       "    }\n",
       "\n",
       "    .dataframe thead th {\n",
       "        text-align: right;\n",
       "    }\n",
       "</style>\n",
       "<table border=\"1\" class=\"dataframe\">\n",
       "  <thead>\n",
       "    <tr style=\"text-align: right;\">\n",
       "      <th></th>\n",
       "      <th>nft_address</th>\n",
       "      <th>token_id</th>\n",
       "      <th>market_value</th>\n",
       "    </tr>\n",
       "  </thead>\n",
       "  <tbody>\n",
       "    <tr>\n",
       "      <th>0</th>\n",
       "      <td>0x00000000000b7F8E8E8Ad148f9d53303Bfe20796</td>\n",
       "      <td>0</td>\n",
       "      <td>3.000000e+16</td>\n",
       "    </tr>\n",
       "    <tr>\n",
       "      <th>1</th>\n",
       "      <td>0x00000000000b7F8E8E8Ad148f9d53303Bfe20796</td>\n",
       "      <td>1</td>\n",
       "      <td>1.500000e+17</td>\n",
       "    </tr>\n",
       "    <tr>\n",
       "      <th>2</th>\n",
       "      <td>0x00000000000b7F8E8E8Ad148f9d53303Bfe20796</td>\n",
       "      <td>10</td>\n",
       "      <td>1.500000e+17</td>\n",
       "    </tr>\n",
       "    <tr>\n",
       "      <th>3</th>\n",
       "      <td>0x00000000000b7F8E8E8Ad148f9d53303Bfe20796</td>\n",
       "      <td>11</td>\n",
       "      <td>3.000000e+16</td>\n",
       "    </tr>\n",
       "    <tr>\n",
       "      <th>4</th>\n",
       "      <td>0x00000000000b7F8E8E8Ad148f9d53303Bfe20796</td>\n",
       "      <td>12</td>\n",
       "      <td>9.000000e+16</td>\n",
       "    </tr>\n",
       "  </tbody>\n",
       "</table>\n",
       "</div>"
      ],
      "text/plain": [
       "                                  nft_address token_id  market_value\n",
       "0  0x00000000000b7F8E8E8Ad148f9d53303Bfe20796        0  3.000000e+16\n",
       "1  0x00000000000b7F8E8E8Ad148f9d53303Bfe20796        1  1.500000e+17\n",
       "2  0x00000000000b7F8E8E8Ad148f9d53303Bfe20796       10  1.500000e+17\n",
       "3  0x00000000000b7F8E8E8Ad148f9d53303Bfe20796       11  3.000000e+16\n",
       "4  0x00000000000b7F8E8E8Ad148f9d53303Bfe20796       12  9.000000e+16"
      ]
     },
     "execution_count": 33,
     "metadata": {},
     "output_type": "execute_result"
    }
   ],
   "source": [
    "current_market_values.head() # YAY! first SQL query from a real DB! LOL......."
   ]
  },
  {
   "cell_type": "code",
   "execution_count": 34,
   "id": "d5d3359f",
   "metadata": {},
   "outputs": [
    {
     "data": {
      "text/plain": [
       "(7020950, 3)"
      ]
     },
     "execution_count": 34,
     "metadata": {},
     "output_type": "execute_result"
    }
   ],
   "source": [
    "current_market_values.shape"
   ]
  },
  {
   "cell_type": "code",
   "execution_count": 35,
   "id": "83e8a3ef",
   "metadata": {},
   "outputs": [],
   "source": [
    "current_owners = pd.read_sql_query(\n",
    "    \"SELECT owner, COUNT(DISTINCT token_id) AS nfts_owned FROM current_owners GROUP BY owner ORDER BY nfts_owned DESC\",\n",
    "connection)"
   ]
  },
  {
   "cell_type": "code",
   "execution_count": 36,
   "id": "a0125855",
   "metadata": {},
   "outputs": [
    {
     "data": {
      "text/html": [
       "<div>\n",
       "<style scoped>\n",
       "    .dataframe tbody tr th:only-of-type {\n",
       "        vertical-align: middle;\n",
       "    }\n",
       "\n",
       "    .dataframe tbody tr th {\n",
       "        vertical-align: top;\n",
       "    }\n",
       "\n",
       "    .dataframe thead th {\n",
       "        text-align: right;\n",
       "    }\n",
       "</style>\n",
       "<table border=\"1\" class=\"dataframe\">\n",
       "  <thead>\n",
       "    <tr style=\"text-align: right;\">\n",
       "      <th></th>\n",
       "      <th>owner</th>\n",
       "      <th>nfts_owned</th>\n",
       "    </tr>\n",
       "  </thead>\n",
       "  <tbody>\n",
       "    <tr>\n",
       "      <th>0</th>\n",
       "      <td>0x02E4103b8A3c55AcDDF298311a9928f9Fe27822C</td>\n",
       "      <td>100045</td>\n",
       "    </tr>\n",
       "    <tr>\n",
       "      <th>1</th>\n",
       "      <td>0x0000000000000000000000000000000000000000</td>\n",
       "      <td>51154</td>\n",
       "    </tr>\n",
       "    <tr>\n",
       "      <th>2</th>\n",
       "      <td>0xE052113bd7D7700d623414a0a4585BCaE754E9d5</td>\n",
       "      <td>50195</td>\n",
       "    </tr>\n",
       "    <tr>\n",
       "      <th>3</th>\n",
       "      <td>0xcDA72070E455bb31C7690a170224Ce43623d0B6f</td>\n",
       "      <td>50131</td>\n",
       "    </tr>\n",
       "    <tr>\n",
       "      <th>4</th>\n",
       "      <td>0x96bEE49d3386d674bF4E956D9B3ce61b9540409D</td>\n",
       "      <td>36751</td>\n",
       "    </tr>\n",
       "  </tbody>\n",
       "</table>\n",
       "</div>"
      ],
      "text/plain": [
       "                                        owner  nfts_owned\n",
       "0  0x02E4103b8A3c55AcDDF298311a9928f9Fe27822C      100045\n",
       "1  0x0000000000000000000000000000000000000000       51154\n",
       "2  0xE052113bd7D7700d623414a0a4585BCaE754E9d5       50195\n",
       "3  0xcDA72070E455bb31C7690a170224Ce43623d0B6f       50131\n",
       "4  0x96bEE49d3386d674bF4E956D9B3ce61b9540409D       36751"
      ]
     },
     "execution_count": 36,
     "metadata": {},
     "output_type": "execute_result"
    }
   ],
   "source": [
    "current_owners.head()"
   ]
  },
  {
   "cell_type": "code",
   "execution_count": 37,
   "id": "419128bc",
   "metadata": {},
   "outputs": [],
   "source": [
    "# well since I cant answer whats the name of the author.... "
   ]
  },
  {
   "cell_type": "code",
   "execution_count": 38,
   "id": "41579145",
   "metadata": {},
   "outputs": [],
   "source": [
    "MOST_OWNED_OWNER = current_owners[\"owner\"][0]"
   ]
  },
  {
   "cell_type": "code",
   "execution_count": 39,
   "id": "a82a21ba",
   "metadata": {},
   "outputs": [
    {
     "data": {
      "text/plain": [
       "'0x02E4103b8A3c55AcDDF298311a9928f9Fe27822C'"
      ]
     },
     "execution_count": 39,
     "metadata": {},
     "output_type": "execute_result"
    }
   ],
   "source": [
    "MOST_OWNED_OWNER"
   ]
  },
  {
   "cell_type": "code",
   "execution_count": 40,
   "id": "9817f1bd",
   "metadata": {},
   "outputs": [],
   "source": [
    "# heres the link, \n",
    "# he really does own alot \n",
    "# https://opensea.io/0x02e4103b8a3c55acddf298311a9928f9fe27822c"
   ]
  },
  {
   "cell_type": "code",
   "execution_count": 41,
   "id": "e086b5fd",
   "metadata": {},
   "outputs": [],
   "source": [
    "# lets see what current_market_values \n",
    "# and market values _ distribution \n",
    "\n",
    "current_market_distribution = pd.read_sql_query(\n",
    "    \"SELECT * FROM market_values_distribution\"\n",
    "    , connection)"
   ]
  },
  {
   "cell_type": "code",
   "execution_count": 42,
   "id": "a430bef0",
   "metadata": {},
   "outputs": [
    {
     "data": {
      "text/html": [
       "<div>\n",
       "<style scoped>\n",
       "    .dataframe tbody tr th:only-of-type {\n",
       "        vertical-align: middle;\n",
       "    }\n",
       "\n",
       "    .dataframe tbody tr th {\n",
       "        vertical-align: top;\n",
       "    }\n",
       "\n",
       "    .dataframe thead th {\n",
       "        text-align: right;\n",
       "    }\n",
       "</style>\n",
       "<table border=\"1\" class=\"dataframe\">\n",
       "  <thead>\n",
       "    <tr style=\"text-align: right;\">\n",
       "      <th></th>\n",
       "      <th>address</th>\n",
       "      <th>token_id</th>\n",
       "      <th>relative_value</th>\n",
       "    </tr>\n",
       "  </thead>\n",
       "  <tbody>\n",
       "    <tr>\n",
       "      <th>0</th>\n",
       "      <td>0x00000000000b7F8E8E8Ad148f9d53303Bfe20796</td>\n",
       "      <td>0</td>\n",
       "      <td>0.2</td>\n",
       "    </tr>\n",
       "    <tr>\n",
       "      <th>1</th>\n",
       "      <td>0x00000000000b7F8E8E8Ad148f9d53303Bfe20796</td>\n",
       "      <td>1</td>\n",
       "      <td>1.0</td>\n",
       "    </tr>\n",
       "    <tr>\n",
       "      <th>2</th>\n",
       "      <td>0x00000000000b7F8E8E8Ad148f9d53303Bfe20796</td>\n",
       "      <td>10</td>\n",
       "      <td>1.0</td>\n",
       "    </tr>\n",
       "    <tr>\n",
       "      <th>3</th>\n",
       "      <td>0x00000000000b7F8E8E8Ad148f9d53303Bfe20796</td>\n",
       "      <td>11</td>\n",
       "      <td>0.2</td>\n",
       "    </tr>\n",
       "    <tr>\n",
       "      <th>4</th>\n",
       "      <td>0x00000000000b7F8E8E8Ad148f9d53303Bfe20796</td>\n",
       "      <td>12</td>\n",
       "      <td>0.6</td>\n",
       "    </tr>\n",
       "  </tbody>\n",
       "</table>\n",
       "</div>"
      ],
      "text/plain": [
       "                                      address token_id  relative_value\n",
       "0  0x00000000000b7F8E8E8Ad148f9d53303Bfe20796        0             0.2\n",
       "1  0x00000000000b7F8E8E8Ad148f9d53303Bfe20796        1             1.0\n",
       "2  0x00000000000b7F8E8E8Ad148f9d53303Bfe20796       10             1.0\n",
       "3  0x00000000000b7F8E8E8Ad148f9d53303Bfe20796       11             0.2\n",
       "4  0x00000000000b7F8E8E8Ad148f9d53303Bfe20796       12             0.6"
      ]
     },
     "execution_count": 42,
     "metadata": {},
     "output_type": "execute_result"
    }
   ],
   "source": [
    "current_market_distribution.head()"
   ]
  },
  {
   "cell_type": "code",
   "execution_count": 43,
   "id": "9283541e",
   "metadata": {},
   "outputs": [
    {
     "data": {
      "text/html": [
       "<div>\n",
       "<style scoped>\n",
       "    .dataframe tbody tr th:only-of-type {\n",
       "        vertical-align: middle;\n",
       "    }\n",
       "\n",
       "    .dataframe tbody tr th {\n",
       "        vertical-align: top;\n",
       "    }\n",
       "\n",
       "    .dataframe thead th {\n",
       "        text-align: right;\n",
       "    }\n",
       "</style>\n",
       "<table border=\"1\" class=\"dataframe\">\n",
       "  <thead>\n",
       "    <tr style=\"text-align: right;\">\n",
       "      <th></th>\n",
       "      <th>address</th>\n",
       "      <th>token_id</th>\n",
       "      <th>relative_value</th>\n",
       "    </tr>\n",
       "  </thead>\n",
       "  <tbody>\n",
       "    <tr>\n",
       "      <th>5284493</th>\n",
       "      <td>0xE3f92992BB4F0f0D173623A52b2922d65172601d</td>\n",
       "      <td>2129</td>\n",
       "      <td>1.0</td>\n",
       "    </tr>\n",
       "    <tr>\n",
       "      <th>1713428</th>\n",
       "      <td>0x3E2803e5d68dFCfacfbC9Be836E24d24FCA674B8</td>\n",
       "      <td>106</td>\n",
       "      <td>1.0</td>\n",
       "    </tr>\n",
       "    <tr>\n",
       "      <th>1713430</th>\n",
       "      <td>0x3E2803e5d68dFCfacfbC9Be836E24d24FCA674B8</td>\n",
       "      <td>108</td>\n",
       "      <td>1.0</td>\n",
       "    </tr>\n",
       "    <tr>\n",
       "      <th>295300</th>\n",
       "      <td>0x08Be0024f7C6Ade544D7cCF30749e14CbAf67f4e</td>\n",
       "      <td>39</td>\n",
       "      <td>1.0</td>\n",
       "    </tr>\n",
       "    <tr>\n",
       "      <th>1713431</th>\n",
       "      <td>0x3E2803e5d68dFCfacfbC9Be836E24d24FCA674B8</td>\n",
       "      <td>109</td>\n",
       "      <td>1.0</td>\n",
       "    </tr>\n",
       "    <tr>\n",
       "      <th>...</th>\n",
       "      <td>...</td>\n",
       "      <td>...</td>\n",
       "      <td>...</td>\n",
       "    </tr>\n",
       "    <tr>\n",
       "      <th>7020917</th>\n",
       "      <td>0xff881E3008f081707bdDA1644e6c92DB9599C1C0</td>\n",
       "      <td>1</td>\n",
       "      <td>NaN</td>\n",
       "    </tr>\n",
       "    <tr>\n",
       "      <th>7020918</th>\n",
       "      <td>0xff881E3008f081707bdDA1644e6c92DB9599C1C0</td>\n",
       "      <td>2</td>\n",
       "      <td>NaN</td>\n",
       "    </tr>\n",
       "    <tr>\n",
       "      <th>7020947</th>\n",
       "      <td>0xffC6c59F34Cd9f8861012FDDd0c7F1323082Ab86</td>\n",
       "      <td>1</td>\n",
       "      <td>NaN</td>\n",
       "    </tr>\n",
       "    <tr>\n",
       "      <th>7020948</th>\n",
       "      <td>0xffCb352Fb3FdbEAab3F662378db28B8D151f210c</td>\n",
       "      <td>0</td>\n",
       "      <td>NaN</td>\n",
       "    </tr>\n",
       "    <tr>\n",
       "      <th>7020949</th>\n",
       "      <td>0xffCb352Fb3FdbEAab3F662378db28B8D151f210c</td>\n",
       "      <td>1</td>\n",
       "      <td>NaN</td>\n",
       "    </tr>\n",
       "  </tbody>\n",
       "</table>\n",
       "<p>7020950 rows × 3 columns</p>\n",
       "</div>"
      ],
      "text/plain": [
       "                                            address token_id  relative_value\n",
       "5284493  0xE3f92992BB4F0f0D173623A52b2922d65172601d     2129             1.0\n",
       "1713428  0x3E2803e5d68dFCfacfbC9Be836E24d24FCA674B8      106             1.0\n",
       "1713430  0x3E2803e5d68dFCfacfbC9Be836E24d24FCA674B8      108             1.0\n",
       "295300   0x08Be0024f7C6Ade544D7cCF30749e14CbAf67f4e       39             1.0\n",
       "1713431  0x3E2803e5d68dFCfacfbC9Be836E24d24FCA674B8      109             1.0\n",
       "...                                             ...      ...             ...\n",
       "7020917  0xff881E3008f081707bdDA1644e6c92DB9599C1C0        1             NaN\n",
       "7020918  0xff881E3008f081707bdDA1644e6c92DB9599C1C0        2             NaN\n",
       "7020947  0xffC6c59F34Cd9f8861012FDDd0c7F1323082Ab86        1             NaN\n",
       "7020948  0xffCb352Fb3FdbEAab3F662378db28B8D151f210c        0             NaN\n",
       "7020949  0xffCb352Fb3FdbEAab3F662378db28B8D151f210c        1             NaN\n",
       "\n",
       "[7020950 rows x 3 columns]"
      ]
     },
     "execution_count": 43,
     "metadata": {},
     "output_type": "execute_result"
    }
   ],
   "source": [
    "current_market_distribution.sort_values(by = \"relative_value\", ascending = False)"
   ]
  },
  {
   "cell_type": "code",
   "execution_count": 44,
   "id": "aa3499ad",
   "metadata": {},
   "outputs": [],
   "source": [
    "# hmm.... \n",
    "# so it looks like current market values has a token_id that is similar to current market prices \n",
    "# current market values normalizes everything which effectively already did feature scaling for me... \n",
    "# but it looks like there are some null values .\n",
    "# I can either :\n",
    "# -replace with median value \n",
    "# -drop the columns \n",
    "# -drop the column altogether (heck, no LOL)"
   ]
  },
  {
   "cell_type": "code",
   "execution_count": 45,
   "id": "b5bad3d7",
   "metadata": {},
   "outputs": [],
   "source": [
    "# lets try querying both tables together, coz lets practice sql 8D \n",
    "# sql queries take so long..."
   ]
  },
  {
   "cell_type": "code",
   "execution_count": 46,
   "id": "d41b319f",
   "metadata": {},
   "outputs": [],
   "source": [
    "# NOTE: THIS QUERY TAKES VERY LONG TO LOAD. \n",
    "\n",
    "# current_market = pd.read_sql_query(\n",
    "#     \"SELECT v.token_id AS token_id, v.market_value as price, d.relative_value as relative_price, \\\n",
    "#     v.nft_address \\\n",
    "#     FROM current_market_values v \\\n",
    "#     LEFT JOIN market_values_distribution d \\\n",
    "#     ON v.token_id = d.token_id \\\n",
    "#     GROUP BY v.token_id\"\n",
    "#     , connection )"
   ]
  },
  {
   "cell_type": "code",
   "execution_count": 47,
   "id": "f92eac09",
   "metadata": {},
   "outputs": [],
   "source": [
    "# current_market_distribution\n",
    "# current_market_values"
   ]
  },
  {
   "cell_type": "code",
   "execution_count": 48,
   "id": "89e1365f",
   "metadata": {},
   "outputs": [
    {
     "data": {
      "text/html": [
       "<div>\n",
       "<style scoped>\n",
       "    .dataframe tbody tr th:only-of-type {\n",
       "        vertical-align: middle;\n",
       "    }\n",
       "\n",
       "    .dataframe tbody tr th {\n",
       "        vertical-align: top;\n",
       "    }\n",
       "\n",
       "    .dataframe thead th {\n",
       "        text-align: right;\n",
       "    }\n",
       "</style>\n",
       "<table border=\"1\" class=\"dataframe\">\n",
       "  <thead>\n",
       "    <tr style=\"text-align: right;\">\n",
       "      <th></th>\n",
       "      <th>nft_address</th>\n",
       "      <th>token_id</th>\n",
       "      <th>market_value</th>\n",
       "    </tr>\n",
       "  </thead>\n",
       "  <tbody>\n",
       "    <tr>\n",
       "      <th>0</th>\n",
       "      <td>0x00000000000b7F8E8E8Ad148f9d53303Bfe20796</td>\n",
       "      <td>0</td>\n",
       "      <td>3.000000e+16</td>\n",
       "    </tr>\n",
       "    <tr>\n",
       "      <th>1</th>\n",
       "      <td>0x00000000000b7F8E8E8Ad148f9d53303Bfe20796</td>\n",
       "      <td>1</td>\n",
       "      <td>1.500000e+17</td>\n",
       "    </tr>\n",
       "    <tr>\n",
       "      <th>2</th>\n",
       "      <td>0x00000000000b7F8E8E8Ad148f9d53303Bfe20796</td>\n",
       "      <td>10</td>\n",
       "      <td>1.500000e+17</td>\n",
       "    </tr>\n",
       "    <tr>\n",
       "      <th>3</th>\n",
       "      <td>0x00000000000b7F8E8E8Ad148f9d53303Bfe20796</td>\n",
       "      <td>11</td>\n",
       "      <td>3.000000e+16</td>\n",
       "    </tr>\n",
       "    <tr>\n",
       "      <th>4</th>\n",
       "      <td>0x00000000000b7F8E8E8Ad148f9d53303Bfe20796</td>\n",
       "      <td>12</td>\n",
       "      <td>9.000000e+16</td>\n",
       "    </tr>\n",
       "  </tbody>\n",
       "</table>\n",
       "</div>"
      ],
      "text/plain": [
       "                                  nft_address token_id  market_value\n",
       "0  0x00000000000b7F8E8E8Ad148f9d53303Bfe20796        0  3.000000e+16\n",
       "1  0x00000000000b7F8E8E8Ad148f9d53303Bfe20796        1  1.500000e+17\n",
       "2  0x00000000000b7F8E8E8Ad148f9d53303Bfe20796       10  1.500000e+17\n",
       "3  0x00000000000b7F8E8E8Ad148f9d53303Bfe20796       11  3.000000e+16\n",
       "4  0x00000000000b7F8E8E8Ad148f9d53303Bfe20796       12  9.000000e+16"
      ]
     },
     "execution_count": 48,
     "metadata": {},
     "output_type": "execute_result"
    }
   ],
   "source": [
    "current_market_values.head()"
   ]
  },
  {
   "cell_type": "code",
   "execution_count": 55,
   "id": "f767e28f",
   "metadata": {},
   "outputs": [
    {
     "data": {
      "image/png": "[encoded data removed]",
      "text/plain": [
       "<Figure size 640x480 with 1 Axes>"
      ]
     },
     "metadata": {},
     "output_type": "display_data"
    }
   ],
   "source": [
    "sns.histplot(data = current_market_values[\"market_value\"], bins = 100)\n",
    "plt.show()"
   ]
  },
  {
   "cell_type": "code",
   "execution_count": 57,
   "id": "5a404e59",
   "metadata": {},
   "outputs": [],
   "source": [
    "# well.... I guess the most expensive one is too expensive.....\n",
    "# maybe we can change it to log scale? \n",
    "# think I'll drop all the 0 values \n",
    " "
   ]
  },
  {
   "cell_type": "code",
   "execution_count": 65,
   "id": "32d295c9",
   "metadata": {},
   "outputs": [],
   "source": [
    "market_value_num = current_market_values[[\"market_value\"]]"
   ]
  },
  {
   "cell_type": "code",
   "execution_count": 69,
   "id": "745f51e9",
   "metadata": {},
   "outputs": [],
   "source": [
    "market_value_num = market_value_num.loc[market_value_num[\"market_value\"] != 0]"
   ]
  },
  {
   "cell_type": "code",
   "execution_count": 70,
   "id": "509d668e",
   "metadata": {},
   "outputs": [
    {
     "data": {
      "text/html": [
       "<div>\n",
       "<style scoped>\n",
       "    .dataframe tbody tr th:only-of-type {\n",
       "        vertical-align: middle;\n",
       "    }\n",
       "\n",
       "    .dataframe tbody tr th {\n",
       "        vertical-align: top;\n",
       "    }\n",
       "\n",
       "    .dataframe thead th {\n",
       "        text-align: right;\n",
       "    }\n",
       "</style>\n",
       "<table border=\"1\" class=\"dataframe\">\n",
       "  <thead>\n",
       "    <tr style=\"text-align: right;\">\n",
       "      <th></th>\n",
       "      <th>market_value</th>\n",
       "    </tr>\n",
       "  </thead>\n",
       "  <tbody>\n",
       "    <tr>\n",
       "      <th>0</th>\n",
       "      <td>3.000000e+16</td>\n",
       "    </tr>\n",
       "    <tr>\n",
       "      <th>1</th>\n",
       "      <td>1.500000e+17</td>\n",
       "    </tr>\n",
       "    <tr>\n",
       "      <th>2</th>\n",
       "      <td>1.500000e+17</td>\n",
       "    </tr>\n",
       "    <tr>\n",
       "      <th>3</th>\n",
       "      <td>3.000000e+16</td>\n",
       "    </tr>\n",
       "    <tr>\n",
       "      <th>4</th>\n",
       "      <td>9.000000e+16</td>\n",
       "    </tr>\n",
       "    <tr>\n",
       "      <th>...</th>\n",
       "      <td>...</td>\n",
       "    </tr>\n",
       "    <tr>\n",
       "      <th>7020937</th>\n",
       "      <td>4.400000e+17</td>\n",
       "    </tr>\n",
       "    <tr>\n",
       "      <th>7020938</th>\n",
       "      <td>3.000000e+17</td>\n",
       "    </tr>\n",
       "    <tr>\n",
       "      <th>7020941</th>\n",
       "      <td>9.900000e+17</td>\n",
       "    </tr>\n",
       "    <tr>\n",
       "      <th>7020942</th>\n",
       "      <td>2.000000e+17</td>\n",
       "    </tr>\n",
       "    <tr>\n",
       "      <th>7020943</th>\n",
       "      <td>4.000000e+17</td>\n",
       "    </tr>\n",
       "  </tbody>\n",
       "</table>\n",
       "<p>4464622 rows × 1 columns</p>\n",
       "</div>"
      ],
      "text/plain": [
       "         market_value\n",
       "0        3.000000e+16\n",
       "1        1.500000e+17\n",
       "2        1.500000e+17\n",
       "3        3.000000e+16\n",
       "4        9.000000e+16\n",
       "...               ...\n",
       "7020937  4.400000e+17\n",
       "7020938  3.000000e+17\n",
       "7020941  9.900000e+17\n",
       "7020942  2.000000e+17\n",
       "7020943  4.000000e+17\n",
       "\n",
       "[4464622 rows x 1 columns]"
      ]
     },
     "execution_count": 70,
     "metadata": {},
     "output_type": "execute_result"
    }
   ],
   "source": [
    "market_value_num"
   ]
  },
  {
   "cell_type": "code",
   "execution_count": 71,
   "id": "cd03fb0d",
   "metadata": {},
   "outputs": [],
   "source": [
    "current_market_values = current_market_values.loc[current_market_values[\"market_value\"] != 0]"
   ]
  },
  {
   "cell_type": "code",
   "execution_count": 73,
   "id": "df12af6a",
   "metadata": {},
   "outputs": [
    {
     "ename": "MemoryError",
     "evalue": "Unable to allocate 34.1 MiB for an array with shape (4464622,) and data type float64",
     "output_type": "error",
     "traceback": [
      "\u001b[1;31m---------------------------------------------------------------------------\u001b[0m",
      "\u001b[1;31mMemoryError\u001b[0m                               Traceback (most recent call last)",
      "Cell \u001b[1;32mIn [73], line 1\u001b[0m\n\u001b[1;32m----> 1\u001b[0m current_market_values[\u001b[38;5;124m\"\u001b[39m\u001b[38;5;124mlog_market_value\u001b[39m\u001b[38;5;124m\"\u001b[39m] \u001b[38;5;241m=\u001b[39m [ np\u001b[38;5;241m.\u001b[39mlog(current_market_values[\u001b[38;5;124m\"\u001b[39m\u001b[38;5;124mmarket_value\u001b[39m\u001b[38;5;124m\"\u001b[39m]) \u001b[38;5;28;01mfor\u001b[39;00m i \u001b[38;5;129;01min\u001b[39;00m \u001b[38;5;28mrange\u001b[39m(\u001b[38;5;28mlen\u001b[39m(current_market_values) )]\n",
      "Cell \u001b[1;32mIn [73], line 1\u001b[0m, in \u001b[0;36m<listcomp>\u001b[1;34m(.0)\u001b[0m\n\u001b[1;32m----> 1\u001b[0m current_market_values[\u001b[38;5;124m\"\u001b[39m\u001b[38;5;124mlog_market_value\u001b[39m\u001b[38;5;124m\"\u001b[39m] \u001b[38;5;241m=\u001b[39m [ \u001b[43mnp\u001b[49m\u001b[38;5;241;43m.\u001b[39;49m\u001b[43mlog\u001b[49m\u001b[43m(\u001b[49m\u001b[43mcurrent_market_values\u001b[49m\u001b[43m[\u001b[49m\u001b[38;5;124;43m\"\u001b[39;49m\u001b[38;5;124;43mmarket_value\u001b[39;49m\u001b[38;5;124;43m\"\u001b[39;49m\u001b[43m]\u001b[49m\u001b[43m)\u001b[49m \u001b[38;5;28;01mfor\u001b[39;00m i \u001b[38;5;129;01min\u001b[39;00m \u001b[38;5;28mrange\u001b[39m(\u001b[38;5;28mlen\u001b[39m(current_market_values) )]\n",
      "File \u001b[1;32m~\\AppData\\Local\\Programs\\Python\\Python310\\lib\\site-packages\\pandas\\core\\generic.py:2112\u001b[0m, in \u001b[0;36mNDFrame.__array_ufunc__\u001b[1;34m(self, ufunc, method, *inputs, **kwargs)\u001b[0m\n\u001b[0;32m   2108\u001b[0m \u001b[38;5;129m@final\u001b[39m\n\u001b[0;32m   2109\u001b[0m \u001b[38;5;28;01mdef\u001b[39;00m \u001b[38;5;21m__array_ufunc__\u001b[39m(\n\u001b[0;32m   2110\u001b[0m     \u001b[38;5;28mself\u001b[39m, ufunc: np\u001b[38;5;241m.\u001b[39mufunc, method: \u001b[38;5;28mstr\u001b[39m, \u001b[38;5;241m*\u001b[39minputs: Any, \u001b[38;5;241m*\u001b[39m\u001b[38;5;241m*\u001b[39mkwargs: Any\n\u001b[0;32m   2111\u001b[0m ):\n\u001b[1;32m-> 2112\u001b[0m     \u001b[38;5;28;01mreturn\u001b[39;00m arraylike\u001b[38;5;241m.\u001b[39marray_ufunc(\u001b[38;5;28mself\u001b[39m, ufunc, method, \u001b[38;5;241m*\u001b[39minputs, \u001b[38;5;241m*\u001b[39m\u001b[38;5;241m*\u001b[39mkwargs)\n",
      "File \u001b[1;32m~\\AppData\\Local\\Programs\\Python\\Python310\\lib\\site-packages\\pandas\\core\\arraylike.py:405\u001b[0m, in \u001b[0;36marray_ufunc\u001b[1;34m(self, ufunc, method, *inputs, **kwargs)\u001b[0m\n\u001b[0;32m    402\u001b[0m \u001b[38;5;28;01melif\u001b[39;00m \u001b[38;5;28mself\u001b[39m\u001b[38;5;241m.\u001b[39mndim \u001b[38;5;241m==\u001b[39m \u001b[38;5;241m1\u001b[39m:\n\u001b[0;32m    403\u001b[0m     \u001b[38;5;66;03m# ufunc(series, ...)\u001b[39;00m\n\u001b[0;32m    404\u001b[0m     inputs \u001b[38;5;241m=\u001b[39m \u001b[38;5;28mtuple\u001b[39m(extract_array(x, extract_numpy\u001b[38;5;241m=\u001b[39m\u001b[38;5;28;01mTrue\u001b[39;00m) \u001b[38;5;28;01mfor\u001b[39;00m x \u001b[38;5;129;01min\u001b[39;00m inputs)\n\u001b[1;32m--> 405\u001b[0m     result \u001b[38;5;241m=\u001b[39m \u001b[38;5;28mgetattr\u001b[39m(ufunc, method)(\u001b[38;5;241m*\u001b[39minputs, \u001b[38;5;241m*\u001b[39m\u001b[38;5;241m*\u001b[39mkwargs)\n\u001b[0;32m    406\u001b[0m \u001b[38;5;28;01melse\u001b[39;00m:\n\u001b[0;32m    407\u001b[0m     \u001b[38;5;66;03m# ufunc(dataframe)\u001b[39;00m\n\u001b[0;32m    408\u001b[0m     \u001b[38;5;28;01mif\u001b[39;00m method \u001b[38;5;241m==\u001b[39m \u001b[38;5;124m\"\u001b[39m\u001b[38;5;124m__call__\u001b[39m\u001b[38;5;124m\"\u001b[39m \u001b[38;5;129;01mand\u001b[39;00m \u001b[38;5;129;01mnot\u001b[39;00m kwargs:\n\u001b[0;32m    409\u001b[0m         \u001b[38;5;66;03m# for np.<ufunc>(..) calls\u001b[39;00m\n\u001b[0;32m    410\u001b[0m         \u001b[38;5;66;03m# kwargs cannot necessarily be handled block-by-block, so only\u001b[39;00m\n\u001b[0;32m    411\u001b[0m         \u001b[38;5;66;03m# take this path if there are no kwargs\u001b[39;00m\n",
      "\u001b[1;31mMemoryError\u001b[0m: Unable to allocate 34.1 MiB for an array with shape (4464622,) and data type float64"
     ]
    }
   ],
   "source": [
    "current_market_values[\"log_market_value\"] = [ np.log(current_market_values[\"market_value\"]) for i in range(len(current_market_values) )]"
   ]
  },
  {
   "cell_type": "code",
   "execution_count": 74,
   "id": "925df877",
   "metadata": {},
   "outputs": [],
   "source": [
    "# well... or just get a better computer ."
   ]
  },
  {
   "cell_type": "code",
   "execution_count": 75,
   "id": "baa97b3f",
   "metadata": {},
   "outputs": [
    {
     "data": {
      "image/png": "[encoded data removed]",
      "text/plain": [
       "<Figure size 640x480 with 1 Axes>"
      ]
     },
     "metadata": {},
     "output_type": "display_data"
    }
   ],
   "source": [
    "sns.histplot(data = current_market_distribution[\"relative_value\"], bins = 100)\n",
    "plt.show()"
   ]
  },
  {
   "cell_type": "code",
   "execution_count": 76,
   "id": "04d62aac",
   "metadata": {},
   "outputs": [],
   "source": [
    "# # it looks like most nfts are still relatively cheap... \n",
    "# but there appears to be a substancial amount of NFTS costing a lot."
   ]
  },
  {
   "cell_type": "code",
   "execution_count": 78,
   "id": "c823f375",
   "metadata": {},
   "outputs": [],
   "source": [
    "sns.set_style(\"dark\")"
   ]
  },
  {
   "cell_type": "code",
   "execution_count": 79,
   "id": "aa4da501",
   "metadata": {},
   "outputs": [],
   "source": [
    "mints = pd.read_sql_query(\n",
    "    \"SELECT * FROM mints\"\n",
    "    ,connection)"
   ]
  },
  {
   "cell_type": "code",
   "execution_count": 80,
   "id": "764b09c0",
   "metadata": {},
   "outputs": [
    {
     "data": {
      "text/html": [
       "<div>\n",
       "<style scoped>\n",
       "    .dataframe tbody tr th:only-of-type {\n",
       "        vertical-align: middle;\n",
       "    }\n",
       "\n",
       "    .dataframe tbody tr th {\n",
       "        vertical-align: top;\n",
       "    }\n",
       "\n",
       "    .dataframe thead th {\n",
       "        text-align: right;\n",
       "    }\n",
       "</style>\n",
       "<table border=\"1\" class=\"dataframe\">\n",
       "  <thead>\n",
       "    <tr style=\"text-align: right;\">\n",
       "      <th></th>\n",
       "      <th>event_id</th>\n",
       "      <th>transaction_hash</th>\n",
       "      <th>block_number</th>\n",
       "      <th>nft_address</th>\n",
       "      <th>token_id</th>\n",
       "      <th>from_address</th>\n",
       "      <th>to_address</th>\n",
       "      <th>transaction_value</th>\n",
       "      <th>timestamp</th>\n",
       "    </tr>\n",
       "  </thead>\n",
       "  <tbody>\n",
       "    <tr>\n",
       "      <th>0</th>\n",
       "      <td>6c6d226e-2096-4b50-ac3f-f7078ca3a0c2</td>\n",
       "      <td>0xe47ac62111db3a6de2957394944501feb7d55cbef00a...</td>\n",
       "      <td>12936415</td>\n",
       "      <td>0x02AA731631c6D7F8241d74F906f5b51724Ab98F8</td>\n",
       "      <td>3223</td>\n",
       "      <td>0x0000000000000000000000000000000000000000</td>\n",
       "      <td>0x8D745Fb3311cC86ED52C177dA0d039C1862F3e13</td>\n",
       "      <td>0.000000e+00</td>\n",
       "      <td>1627776933</td>\n",
       "    </tr>\n",
       "    <tr>\n",
       "      <th>1</th>\n",
       "      <td>263c923f-4db9-4d81-a547-27e1fe5ec405</td>\n",
       "      <td>0xe47ac62111db3a6de2957394944501feb7d55cbef00a...</td>\n",
       "      <td>12936415</td>\n",
       "      <td>0x02AA731631c6D7F8241d74F906f5b51724Ab98F8</td>\n",
       "      <td>5077</td>\n",
       "      <td>0x0000000000000000000000000000000000000000</td>\n",
       "      <td>0x8D745Fb3311cC86ED52C177dA0d039C1862F3e13</td>\n",
       "      <td>0.000000e+00</td>\n",
       "      <td>1627776933</td>\n",
       "    </tr>\n",
       "    <tr>\n",
       "      <th>2</th>\n",
       "      <td>8baa8502-42f9-453e-824a-ad504045c9c5</td>\n",
       "      <td>0xe47ac62111db3a6de2957394944501feb7d55cbef00a...</td>\n",
       "      <td>12936415</td>\n",
       "      <td>0x02AA731631c6D7F8241d74F906f5b51724Ab98F8</td>\n",
       "      <td>5070</td>\n",
       "      <td>0x0000000000000000000000000000000000000000</td>\n",
       "      <td>0x8D745Fb3311cC86ED52C177dA0d039C1862F3e13</td>\n",
       "      <td>0.000000e+00</td>\n",
       "      <td>1627776933</td>\n",
       "    </tr>\n",
       "    <tr>\n",
       "      <th>3</th>\n",
       "      <td>364ee658-ff31-4d0a-a7a7-60d3d7822772</td>\n",
       "      <td>0xe47ac62111db3a6de2957394944501feb7d55cbef00a...</td>\n",
       "      <td>12936415</td>\n",
       "      <td>0x02AA731631c6D7F8241d74F906f5b51724Ab98F8</td>\n",
       "      <td>3757</td>\n",
       "      <td>0x0000000000000000000000000000000000000000</td>\n",
       "      <td>0x8D745Fb3311cC86ED52C177dA0d039C1862F3e13</td>\n",
       "      <td>0.000000e+00</td>\n",
       "      <td>1627776933</td>\n",
       "    </tr>\n",
       "    <tr>\n",
       "      <th>4</th>\n",
       "      <td>58d3adc3-03d2-4e7b-b02c-47957c1f5752</td>\n",
       "      <td>0xd44be17c0298717ce001843069b0a2ca08b577fa2b33...</td>\n",
       "      <td>12936414</td>\n",
       "      <td>0x57f1887a8BF19b14fC0dF6Fd9B2acc9Af147eA85</td>\n",
       "      <td>3252202771441387673917605047769619801375983664...</td>\n",
       "      <td>0x0000000000000000000000000000000000000000</td>\n",
       "      <td>0x283Af0B28c62C092C9727F1Ee09c02CA627EB7F5</td>\n",
       "      <td>2.251726e+15</td>\n",
       "      <td>1627776925</td>\n",
       "    </tr>\n",
       "  </tbody>\n",
       "</table>\n",
       "</div>"
      ],
      "text/plain": [
       "                               event_id  \\\n",
       "0  6c6d226e-2096-4b50-ac3f-f7078ca3a0c2   \n",
       "1  263c923f-4db9-4d81-a547-27e1fe5ec405   \n",
       "2  8baa8502-42f9-453e-824a-ad504045c9c5   \n",
       "3  364ee658-ff31-4d0a-a7a7-60d3d7822772   \n",
       "4  58d3adc3-03d2-4e7b-b02c-47957c1f5752   \n",
       "\n",
       "                                    transaction_hash  block_number  \\\n",
       "0  0xe47ac62111db3a6de2957394944501feb7d55cbef00a...      12936415   \n",
       "1  0xe47ac62111db3a6de2957394944501feb7d55cbef00a...      12936415   \n",
       "2  0xe47ac62111db3a6de2957394944501feb7d55cbef00a...      12936415   \n",
       "3  0xe47ac62111db3a6de2957394944501feb7d55cbef00a...      12936415   \n",
       "4  0xd44be17c0298717ce001843069b0a2ca08b577fa2b33...      12936414   \n",
       "\n",
       "                                  nft_address  \\\n",
       "0  0x02AA731631c6D7F8241d74F906f5b51724Ab98F8   \n",
       "1  0x02AA731631c6D7F8241d74F906f5b51724Ab98F8   \n",
       "2  0x02AA731631c6D7F8241d74F906f5b51724Ab98F8   \n",
       "3  0x02AA731631c6D7F8241d74F906f5b51724Ab98F8   \n",
       "4  0x57f1887a8BF19b14fC0dF6Fd9B2acc9Af147eA85   \n",
       "\n",
       "                                            token_id  \\\n",
       "0                                               3223   \n",
       "1                                               5077   \n",
       "2                                               5070   \n",
       "3                                               3757   \n",
       "4  3252202771441387673917605047769619801375983664...   \n",
       "\n",
       "                                 from_address  \\\n",
       "0  0x0000000000000000000000000000000000000000   \n",
       "1  0x0000000000000000000000000000000000000000   \n",
       "2  0x0000000000000000000000000000000000000000   \n",
       "3  0x0000000000000000000000000000000000000000   \n",
       "4  0x0000000000000000000000000000000000000000   \n",
       "\n",
       "                                   to_address  transaction_value   timestamp  \n",
       "0  0x8D745Fb3311cC86ED52C177dA0d039C1862F3e13       0.000000e+00  1627776933  \n",
       "1  0x8D745Fb3311cC86ED52C177dA0d039C1862F3e13       0.000000e+00  1627776933  \n",
       "2  0x8D745Fb3311cC86ED52C177dA0d039C1862F3e13       0.000000e+00  1627776933  \n",
       "3  0x8D745Fb3311cC86ED52C177dA0d039C1862F3e13       0.000000e+00  1627776933  \n",
       "4  0x283Af0B28c62C092C9727F1Ee09c02CA627EB7F5       2.251726e+15  1627776925  "
      ]
     },
     "execution_count": 80,
     "metadata": {},
     "output_type": "execute_result"
    }
   ],
   "source": [
    "mints.head()"
   ]
  },
  {
   "cell_type": "code",
   "execution_count": 86,
   "id": "0349e7e8",
   "metadata": {},
   "outputs": [],
   "source": [
    "# okay we can sort by time stamp \n",
    "# and group how many events happened on that day \n",
    "\n",
    "mintsOrdered = pd.read_sql_query(\n",
    "    \"SELECT timestamp, COUNT(event_id) AS number_minted \\\n",
    "    FROM mints \\\n",
    "    GROUP BY timestamp \\\n",
    "    ORDER BY timestamp\"\n",
    "    ,connection)"
   ]
  },
  {
   "cell_type": "code",
   "execution_count": 87,
   "id": "5a5f43aa",
   "metadata": {},
   "outputs": [
    {
     "data": {
      "text/html": [
       "<div>\n",
       "<style scoped>\n",
       "    .dataframe tbody tr th:only-of-type {\n",
       "        vertical-align: middle;\n",
       "    }\n",
       "\n",
       "    .dataframe tbody tr th {\n",
       "        vertical-align: top;\n",
       "    }\n",
       "\n",
       "    .dataframe thead th {\n",
       "        text-align: right;\n",
       "    }\n",
       "</style>\n",
       "<table border=\"1\" class=\"dataframe\">\n",
       "  <thead>\n",
       "    <tr style=\"text-align: right;\">\n",
       "      <th></th>\n",
       "      <th>timestamp</th>\n",
       "      <th>number_minted</th>\n",
       "    </tr>\n",
       "  </thead>\n",
       "  <tbody>\n",
       "    <tr>\n",
       "      <th>0</th>\n",
       "      <td>1617235206</td>\n",
       "      <td>2</td>\n",
       "    </tr>\n",
       "    <tr>\n",
       "      <th>1</th>\n",
       "      <td>1617235214</td>\n",
       "      <td>4</td>\n",
       "    </tr>\n",
       "    <tr>\n",
       "      <th>2</th>\n",
       "      <td>1617235218</td>\n",
       "      <td>2</td>\n",
       "    </tr>\n",
       "    <tr>\n",
       "      <th>3</th>\n",
       "      <td>1617235225</td>\n",
       "      <td>1</td>\n",
       "    </tr>\n",
       "    <tr>\n",
       "      <th>4</th>\n",
       "      <td>1617235235</td>\n",
       "      <td>2</td>\n",
       "    </tr>\n",
       "  </tbody>\n",
       "</table>\n",
       "</div>"
      ],
      "text/plain": [
       "    timestamp  number_minted\n",
       "0  1617235206              2\n",
       "1  1617235214              4\n",
       "2  1617235218              2\n",
       "3  1617235225              1\n",
       "4  1617235235              2"
      ]
     },
     "execution_count": 87,
     "metadata": {},
     "output_type": "execute_result"
    }
   ],
   "source": [
    "mintsOrdered.head()"
   ]
  },
  {
   "cell_type": "code",
   "execution_count": 88,
   "id": "4a160ce3",
   "metadata": {},
   "outputs": [
    {
     "data": {
      "text/plain": [
       "<AxesSubplot: xlabel='timestamp', ylabel='number_minted'>"
      ]
     },
     "execution_count": 88,
     "metadata": {},
     "output_type": "execute_result"
    },
    {
     "data": {
      "image/png": "[encoded data removed]",
      "text/plain": [
       "<Figure size 640x480 with 1 Axes>"
      ]
     },
     "metadata": {},
     "output_type": "display_data"
    }
   ],
   "source": [
    "sns.lineplot(data = mintsOrdered, x = \"timestamp\", y = \"number_minted\")\n"
   ]
  },
  {
   "cell_type": "code",
   "execution_count": 90,
   "id": "a7ae550c",
   "metadata": {},
   "outputs": [],
   "source": [
    "# i guess theres just too much data that it looks like a histogram instead...\n",
    "# but it looks like we can see that its generally steadily increasing with sharp spikes in between"
   ]
  },
  {
   "cell_type": "code",
   "execution_count": null,
   "id": "5e1e2871",
   "metadata": {},
   "outputs": [],
   "source": []
  }
 ],
 "metadata": {
  "kernelspec": {
   "display_name": "Python 3 (ipykernel)",
   "language": "python",
   "name": "python3"
  },
  "language_info": {
   "codemirror_mode": {
    "name": "ipython",
    "version": 3
   },
   "file_extension": ".py",
   "mimetype": "text/x-python",
   "name": "python",
   "nbconvert_exporter": "python",
   "pygments_lexer": "ipython3",
   "version": "3.10.7"
  }
 },
 "nbformat": 4,
 "nbformat_minor": 5
}
